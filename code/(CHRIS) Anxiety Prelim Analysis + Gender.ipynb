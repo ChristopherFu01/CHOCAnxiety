{
 "cells": [
  {
   "cell_type": "markdown",
   "id": "7a17033f",
   "metadata": {},
   "source": [
    "Dataset: Indicators of Anxiety or Depression Based on Reported Frequency of Symptoms During Last 7 Days\n",
    "\n",
    "Website: data.world \n",
    "\n",
    "Link to Dataset:\n",
    "\n",
    "https://data.world/us-hhs-gov/20390186-e507-434c-a129-56f021447e3b/workspace/file?filename=csv-1.csv"
   ]
  },
  {
   "cell_type": "code",
   "execution_count": 1,
   "id": "70ede2ff",
   "metadata": {},
   "outputs": [],
   "source": [
    "import pandas as pd\n",
    "import matplotlib.pyplot as plt\n",
    "from scipy import stats\n",
    "import plotly as py\n",
    "import plotly.graph_objects as go\n",
    "import statsmodels.api as sm\n",
    "from statsmodels.formula.api import ols\n",
    "import seaborn as sns\n",
    "from statsmodels.graphics.regressionplots import abline_plot\n",
    "import numpy as np\n",
    "from statsmodels.graphics.regressionplots import abline_plot\n",
    "from sklearn.linear_model import LinearRegression"
   ]
  },
  {
   "cell_type": "markdown",
   "id": "0f634da1",
   "metadata": {},
   "source": [
    "**Importing csv file and first 5 rows**"
   ]
  },
  {
   "cell_type": "code",
   "execution_count": 2,
   "id": "bc52ab3a",
   "metadata": {
    "scrolled": true
   },
   "outputs": [
    {
     "data": {
      "text/html": [
       "<div>\n",
       "<style scoped>\n",
       "    .dataframe tbody tr th:only-of-type {\n",
       "        vertical-align: middle;\n",
       "    }\n",
       "\n",
       "    .dataframe tbody tr th {\n",
       "        vertical-align: top;\n",
       "    }\n",
       "\n",
       "    .dataframe thead th {\n",
       "        text-align: right;\n",
       "    }\n",
       "</style>\n",
       "<table border=\"1\" class=\"dataframe\">\n",
       "  <thead>\n",
       "    <tr style=\"text-align: right;\">\n",
       "      <th></th>\n",
       "      <th>Indicator</th>\n",
       "      <th>Group</th>\n",
       "      <th>State</th>\n",
       "      <th>Subgroup</th>\n",
       "      <th>Week</th>\n",
       "      <th>Week Label</th>\n",
       "      <th>Value</th>\n",
       "      <th>Low CI</th>\n",
       "      <th>High CI</th>\n",
       "      <th>Confidence Interval</th>\n",
       "      <th>Quartile range</th>\n",
       "    </tr>\n",
       "  </thead>\n",
       "  <tbody>\n",
       "    <tr>\n",
       "      <th>0</th>\n",
       "      <td>Symptoms of Depressive Disorder</td>\n",
       "      <td>National Estimate</td>\n",
       "      <td>United States</td>\n",
       "      <td>United States</td>\n",
       "      <td>1</td>\n",
       "      <td>Apr 23 - May 5</td>\n",
       "      <td>23.5</td>\n",
       "      <td>22.7</td>\n",
       "      <td>24.3</td>\n",
       "      <td>22.7 - 24.3</td>\n",
       "      <td>NaN</td>\n",
       "    </tr>\n",
       "    <tr>\n",
       "      <th>1</th>\n",
       "      <td>Symptoms of Depressive Disorder</td>\n",
       "      <td>By Age</td>\n",
       "      <td>United States</td>\n",
       "      <td>18 - 29 years</td>\n",
       "      <td>1</td>\n",
       "      <td>Apr 23 - May 5</td>\n",
       "      <td>32.7</td>\n",
       "      <td>30.2</td>\n",
       "      <td>35.2</td>\n",
       "      <td>30.2 - 35.2</td>\n",
       "      <td>NaN</td>\n",
       "    </tr>\n",
       "    <tr>\n",
       "      <th>2</th>\n",
       "      <td>Symptoms of Depressive Disorder</td>\n",
       "      <td>By Age</td>\n",
       "      <td>United States</td>\n",
       "      <td>30 - 39 years</td>\n",
       "      <td>1</td>\n",
       "      <td>Apr 23 - May 5</td>\n",
       "      <td>25.7</td>\n",
       "      <td>24.1</td>\n",
       "      <td>27.3</td>\n",
       "      <td>24.1 - 27.3</td>\n",
       "      <td>NaN</td>\n",
       "    </tr>\n",
       "    <tr>\n",
       "      <th>3</th>\n",
       "      <td>Symptoms of Depressive Disorder</td>\n",
       "      <td>By Age</td>\n",
       "      <td>United States</td>\n",
       "      <td>40 - 49 years</td>\n",
       "      <td>1</td>\n",
       "      <td>Apr 23 - May 5</td>\n",
       "      <td>24.8</td>\n",
       "      <td>23.3</td>\n",
       "      <td>26.2</td>\n",
       "      <td>23.3 - 26.2</td>\n",
       "      <td>NaN</td>\n",
       "    </tr>\n",
       "    <tr>\n",
       "      <th>4</th>\n",
       "      <td>Symptoms of Depressive Disorder</td>\n",
       "      <td>By Age</td>\n",
       "      <td>United States</td>\n",
       "      <td>50 - 59 years</td>\n",
       "      <td>1</td>\n",
       "      <td>Apr 23 - May 5</td>\n",
       "      <td>23.2</td>\n",
       "      <td>21.5</td>\n",
       "      <td>25.0</td>\n",
       "      <td>21.5 - 25.0</td>\n",
       "      <td>NaN</td>\n",
       "    </tr>\n",
       "  </tbody>\n",
       "</table>\n",
       "</div>"
      ],
      "text/plain": [
       "                         Indicator              Group          State  \\\n",
       "0  Symptoms of Depressive Disorder  National Estimate  United States   \n",
       "1  Symptoms of Depressive Disorder             By Age  United States   \n",
       "2  Symptoms of Depressive Disorder             By Age  United States   \n",
       "3  Symptoms of Depressive Disorder             By Age  United States   \n",
       "4  Symptoms of Depressive Disorder             By Age  United States   \n",
       "\n",
       "        Subgroup  Week      Week Label  Value  Low CI  High CI  \\\n",
       "0  United States     1  Apr 23 - May 5   23.5    22.7     24.3   \n",
       "1  18 - 29 years     1  Apr 23 - May 5   32.7    30.2     35.2   \n",
       "2  30 - 39 years     1  Apr 23 - May 5   25.7    24.1     27.3   \n",
       "3  40 - 49 years     1  Apr 23 - May 5   24.8    23.3     26.2   \n",
       "4  50 - 59 years     1  Apr 23 - May 5   23.2    21.5     25.0   \n",
       "\n",
       "  Confidence Interval Quartile range  \n",
       "0         22.7 - 24.3            NaN  \n",
       "1         30.2 - 35.2            NaN  \n",
       "2         24.1 - 27.3            NaN  \n",
       "3         23.3 - 26.2            NaN  \n",
       "4         21.5 - 25.0            NaN  "
      ]
     },
     "execution_count": 2,
     "metadata": {},
     "output_type": "execute_result"
    }
   ],
   "source": [
    "df = pd.read_csv(\"csv-1.csv\")\n",
    "df.head()"
   ]
  },
  {
   "cell_type": "markdown",
   "id": "686fa44e",
   "metadata": {},
   "source": [
    "**Column Names**"
   ]
  },
  {
   "cell_type": "code",
   "execution_count": 3,
   "id": "b241496f",
   "metadata": {},
   "outputs": [
    {
     "name": "stdout",
     "output_type": "stream",
     "text": [
      "Indicator\n",
      "Group\n",
      "State\n",
      "Subgroup\n",
      "Week\n",
      "Week Label\n",
      "Value\n",
      "Low CI\n",
      "High CI\n",
      "Confidence Interval\n",
      "Quartile range\n"
     ]
    }
   ],
   "source": [
    "dfcol = df.columns\n",
    "\n",
    "for name in dfcol:\n",
    "    print(name)"
   ]
  },
  {
   "cell_type": "markdown",
   "id": "26a7fc6c",
   "metadata": {},
   "source": [
    "**Meanings for each column/variable**:\n",
    "\n",
    "- *Indicator*: labeled disorder; \n",
    "\n",
    "- *Group*: type of group\n",
    "\n",
    "    - National Estimate (data for the entire country)\n",
    "\n",
    "    - By Age\n",
    "   \n",
    "    - By Gender\n",
    "\n",
    "    - By Race/Hispanic ethnicity\n",
    "\n",
    "    - By Education\n",
    "    \n",
    "    - By State\n",
    "\n",
    "- *State*: full state name in the United States including \"United States\" and \"District of Columbia\"\n",
    "\n",
    "- *Subgroup*: type of subgroup within a certain group (see **Subgroup** heading for full list)\n",
    "\n",
    "- *Week*: numeric value indicating which week # it is; total of 7 observed weeks\n",
    "\n",
    "- *Week Label*: date (month and day) for a certain week\n",
    "\n",
    "    - Week 1: Apr 23 - May 5\n",
    "    \n",
    "    - Week 2: May 7 - May 12\n",
    "    \n",
    "    - Week 3: May 14 - May 19\n",
    "    \n",
    "    - Week 4: May 21 - May 26\n",
    "    \n",
    "    - Week 5: May 28 - June 2\n",
    "    \n",
    "    - Week 6: June 4 - June 9\n",
    "    \n",
    "    - Week 7: June 11 - June 16\n",
    "\n",
    "- *Value*: value indicating the likelihood of a disorder; higher values mean higher correspondence\n",
    "\n",
    "- *Low CI*: lowerbound of the confidence interval\n",
    "\n",
    "- *High CI*: upperbound of the confidence interval\n",
    "\n",
    "- *Confidence Interval*: the full range of the confidence interval\n",
    "\n",
    "- *Quartile range*: quartile range shown as an interval (?)"
   ]
  },
  {
   "cell_type": "markdown",
   "id": "3be7fcbd",
   "metadata": {},
   "source": [
    "**Week Label**"
   ]
  },
  {
   "cell_type": "code",
   "execution_count": 4,
   "id": "d73cc3c7",
   "metadata": {},
   "outputs": [
    {
     "name": "stdout",
     "output_type": "stream",
     "text": [
      "Apr 23 - May 5\n",
      "May 7 - May 12\n",
      "May 14 - May 19\n",
      "May 21 - May 26\n",
      "May 28 - June 2\n",
      "June 4 - June 9\n",
      "June 11 - June 16\n"
     ]
    }
   ],
   "source": [
    "weeks = pd.unique(df['Week Label'])\n",
    "\n",
    "for week in weeks:\n",
    "    print(week)"
   ]
  },
  {
   "cell_type": "markdown",
   "id": "14e5fc59",
   "metadata": {},
   "source": [
    "**States**"
   ]
  },
  {
   "cell_type": "code",
   "execution_count": 5,
   "id": "3b242922",
   "metadata": {
    "scrolled": true
   },
   "outputs": [
    {
     "name": "stdout",
     "output_type": "stream",
     "text": [
      "United States\n",
      "Alabama\n",
      "Alaska\n",
      "Arizona\n",
      "Arkansas\n",
      "California\n",
      "Colorado\n",
      "Connecticut\n",
      "Delaware\n",
      "District of Columbia\n",
      "Florida\n",
      "Georgia\n",
      "Hawaii\n",
      "Idaho\n",
      "Illinois\n",
      "Indiana\n",
      "Iowa\n",
      "Kansas\n",
      "Kentucky\n",
      "Louisiana\n",
      "Maine\n",
      "Maryland\n",
      "Massachusetts\n",
      "Michigan\n",
      "Minnesota\n",
      "Mississippi\n",
      "Missouri\n",
      "Montana\n",
      "Nebraska\n",
      "Nevada\n",
      "New Hampshire\n",
      "New Jersey\n",
      "New Mexico\n",
      "New York\n",
      "North Carolina\n",
      "North Dakota\n",
      "Ohio\n",
      "Oklahoma\n",
      "Oregon\n",
      "Pennsylvania\n",
      "Rhode Island\n",
      "South Carolina\n",
      "South Dakota\n",
      "Tennessee\n",
      "Texas\n",
      "Utah\n",
      "Vermont\n",
      "Virginia\n",
      "Washington\n",
      "West Virginia\n",
      "Wisconsin\n",
      "Wyoming\n"
     ]
    }
   ],
   "source": [
    "states = pd.unique(df['State'])\n",
    "\n",
    "for state in states:\n",
    "    print(state)"
   ]
  },
  {
   "cell_type": "code",
   "execution_count": 6,
   "id": "cd38a8c7",
   "metadata": {},
   "outputs": [
    {
     "name": "stdout",
     "output_type": "stream",
     "text": [
      "52\n"
     ]
    }
   ],
   "source": [
    "# 2 additional states: United States and District of Columbia\n",
    "print(len(states))"
   ]
  },
  {
   "cell_type": "markdown",
   "id": "b0706ded",
   "metadata": {},
   "source": [
    "**Indicators**"
   ]
  },
  {
   "cell_type": "code",
   "execution_count": 7,
   "id": "298fe7f6",
   "metadata": {},
   "outputs": [
    {
     "name": "stdout",
     "output_type": "stream",
     "text": [
      "Symptoms of Depressive Disorder\n",
      "Symptoms of Anxiety Disorder\n",
      "Symptoms of Anxiety Disorder or Depressive Disorder\n"
     ]
    }
   ],
   "source": [
    "indicators = pd.unique(df['Indicator'])\n",
    "\n",
    "for ind in indicators:\n",
    "    print(ind)"
   ]
  },
  {
   "cell_type": "code",
   "execution_count": 8,
   "id": "9b20e225",
   "metadata": {},
   "outputs": [
    {
     "data": {
      "text/plain": [
       "490"
      ]
     },
     "execution_count": 8,
     "metadata": {},
     "output_type": "execute_result"
    }
   ],
   "source": [
    "# 490 rows with symptoms of anxiety disorder\n",
    "sum(df['Indicator'] == \"Symptoms of Anxiety Disorder\")"
   ]
  },
  {
   "cell_type": "markdown",
   "id": "5896fcc7",
   "metadata": {},
   "source": [
    "**Groups**"
   ]
  },
  {
   "cell_type": "code",
   "execution_count": 9,
   "id": "6d10aa04",
   "metadata": {
    "scrolled": true
   },
   "outputs": [
    {
     "name": "stdout",
     "output_type": "stream",
     "text": [
      "National Estimate\n",
      "By Age\n",
      "By Gender\n",
      "By Race/Hispanic ethnicity\n",
      "By Education\n",
      "By State\n"
     ]
    }
   ],
   "source": [
    "groups = pd.unique(df['Group'])\n",
    "\n",
    "for group in groups:\n",
    "    print(group)"
   ]
  },
  {
   "cell_type": "markdown",
   "id": "b409acd9",
   "metadata": {},
   "source": [
    "**Subgroups**"
   ]
  },
  {
   "cell_type": "code",
   "execution_count": 10,
   "id": "17fc166f",
   "metadata": {
    "scrolled": true
   },
   "outputs": [
    {
     "name": "stdout",
     "output_type": "stream",
     "text": [
      "United States\n",
      "18 - 29 years\n",
      "30 - 39 years\n",
      "40 - 49 years\n",
      "50 - 59 years\n",
      "60 - 69 years\n",
      "70 - 79 years\n",
      "80 years and above\n",
      "Male\n",
      "Female\n",
      "Hispanic or Latino\n",
      "Non-Hispanic white, single race\n",
      "Non-Hispanic black, single race\n",
      "Non-Hispanic Asian, single race\n",
      "Non-Hispanic, other races and multiple races\n",
      "Less than a high school diploma\n",
      "High school diploma or GED\n",
      "Some college/Associate's degree\n",
      "Bachelor's degree or higher\n",
      "Alabama\n",
      "Alaska\n",
      "Arizona\n",
      "Arkansas\n",
      "California\n",
      "Colorado\n",
      "Connecticut\n",
      "Delaware\n",
      "District of Columbia\n",
      "Florida\n",
      "Georgia\n",
      "Hawaii\n",
      "Idaho\n",
      "Illinois\n",
      "Indiana\n",
      "Iowa\n",
      "Kansas\n",
      "Kentucky\n",
      "Louisiana\n",
      "Maine\n",
      "Maryland\n",
      "Massachusetts\n",
      "Michigan\n",
      "Minnesota\n",
      "Mississippi\n",
      "Missouri\n",
      "Montana\n",
      "Nebraska\n",
      "Nevada\n",
      "New Hampshire\n",
      "New Jersey\n",
      "New Mexico\n",
      "New York\n",
      "North Carolina\n",
      "North Dakota\n",
      "Ohio\n",
      "Oklahoma\n",
      "Oregon\n",
      "Pennsylvania\n",
      "Rhode Island\n",
      "South Carolina\n",
      "South Dakota\n",
      "Tennessee\n",
      "Texas\n",
      "Utah\n",
      "Vermont\n",
      "Virginia\n",
      "Washington\n",
      "West Virginia\n",
      "Wisconsin\n",
      "Wyoming\n"
     ]
    }
   ],
   "source": [
    "subgroups = pd.unique(df['Subgroup'])\n",
    "\n",
    "for sub in subgroups:\n",
    "    print(sub)"
   ]
  },
  {
   "cell_type": "markdown",
   "id": "b76b4414",
   "metadata": {},
   "source": [
    "**Gender Grouping for ANXIETY**"
   ]
  },
  {
   "cell_type": "code",
   "execution_count": 11,
   "id": "03364a54",
   "metadata": {},
   "outputs": [
    {
     "data": {
      "text/html": [
       "<div>\n",
       "<style scoped>\n",
       "    .dataframe tbody tr th:only-of-type {\n",
       "        vertical-align: middle;\n",
       "    }\n",
       "\n",
       "    .dataframe tbody tr th {\n",
       "        vertical-align: top;\n",
       "    }\n",
       "\n",
       "    .dataframe thead th {\n",
       "        text-align: right;\n",
       "    }\n",
       "</style>\n",
       "<table border=\"1\" class=\"dataframe\">\n",
       "  <thead>\n",
       "    <tr style=\"text-align: right;\">\n",
       "      <th></th>\n",
       "      <th>Indicator</th>\n",
       "      <th>Group</th>\n",
       "      <th>State</th>\n",
       "      <th>Subgroup</th>\n",
       "      <th>Week</th>\n",
       "      <th>Week Label</th>\n",
       "      <th>Value</th>\n",
       "      <th>Low CI</th>\n",
       "      <th>High CI</th>\n",
       "      <th>Confidence Interval</th>\n",
       "      <th>Quartile range</th>\n",
       "    </tr>\n",
       "  </thead>\n",
       "  <tbody>\n",
       "    <tr>\n",
       "      <th>78</th>\n",
       "      <td>Symptoms of Anxiety Disorder</td>\n",
       "      <td>By Gender</td>\n",
       "      <td>United States</td>\n",
       "      <td>Male</td>\n",
       "      <td>1</td>\n",
       "      <td>Apr 23 - May 5</td>\n",
       "      <td>26.1</td>\n",
       "      <td>24.7</td>\n",
       "      <td>27.5</td>\n",
       "      <td>24.7 - 27.5</td>\n",
       "      <td>NaN</td>\n",
       "    </tr>\n",
       "    <tr>\n",
       "      <th>79</th>\n",
       "      <td>Symptoms of Anxiety Disorder</td>\n",
       "      <td>By Gender</td>\n",
       "      <td>United States</td>\n",
       "      <td>Female</td>\n",
       "      <td>1</td>\n",
       "      <td>Apr 23 - May 5</td>\n",
       "      <td>35.4</td>\n",
       "      <td>34.5</td>\n",
       "      <td>36.3</td>\n",
       "      <td>34.5 - 36.3</td>\n",
       "      <td>NaN</td>\n",
       "    </tr>\n",
       "    <tr>\n",
       "      <th>288</th>\n",
       "      <td>Symptoms of Anxiety Disorder</td>\n",
       "      <td>By Gender</td>\n",
       "      <td>United States</td>\n",
       "      <td>Male</td>\n",
       "      <td>2</td>\n",
       "      <td>May 7 - May 12</td>\n",
       "      <td>26.7</td>\n",
       "      <td>24.9</td>\n",
       "      <td>28.5</td>\n",
       "      <td>24.9 - 28.5</td>\n",
       "      <td>NaN</td>\n",
       "    </tr>\n",
       "    <tr>\n",
       "      <th>289</th>\n",
       "      <td>Symptoms of Anxiety Disorder</td>\n",
       "      <td>By Gender</td>\n",
       "      <td>United States</td>\n",
       "      <td>Female</td>\n",
       "      <td>2</td>\n",
       "      <td>May 7 - May 12</td>\n",
       "      <td>33.1</td>\n",
       "      <td>32.0</td>\n",
       "      <td>34.2</td>\n",
       "      <td>32.0 - 34.2</td>\n",
       "      <td>NaN</td>\n",
       "    </tr>\n",
       "    <tr>\n",
       "      <th>498</th>\n",
       "      <td>Symptoms of Anxiety Disorder</td>\n",
       "      <td>By Gender</td>\n",
       "      <td>United States</td>\n",
       "      <td>Male</td>\n",
       "      <td>3</td>\n",
       "      <td>May 14 - May 19</td>\n",
       "      <td>24.2</td>\n",
       "      <td>23.2</td>\n",
       "      <td>25.2</td>\n",
       "      <td>23.2 - 25.2</td>\n",
       "      <td>NaN</td>\n",
       "    </tr>\n",
       "  </tbody>\n",
       "</table>\n",
       "</div>"
      ],
      "text/plain": [
       "                        Indicator      Group          State Subgroup  Week  \\\n",
       "78   Symptoms of Anxiety Disorder  By Gender  United States     Male     1   \n",
       "79   Symptoms of Anxiety Disorder  By Gender  United States   Female     1   \n",
       "288  Symptoms of Anxiety Disorder  By Gender  United States     Male     2   \n",
       "289  Symptoms of Anxiety Disorder  By Gender  United States   Female     2   \n",
       "498  Symptoms of Anxiety Disorder  By Gender  United States     Male     3   \n",
       "\n",
       "          Week Label  Value  Low CI  High CI Confidence Interval  \\\n",
       "78    Apr 23 - May 5   26.1    24.7     27.5         24.7 - 27.5   \n",
       "79    Apr 23 - May 5   35.4    34.5     36.3         34.5 - 36.3   \n",
       "288   May 7 - May 12   26.7    24.9     28.5         24.9 - 28.5   \n",
       "289   May 7 - May 12   33.1    32.0     34.2         32.0 - 34.2   \n",
       "498  May 14 - May 19   24.2    23.2     25.2         23.2 - 25.2   \n",
       "\n",
       "    Quartile range  \n",
       "78             NaN  \n",
       "79             NaN  \n",
       "288            NaN  \n",
       "289            NaN  \n",
       "498            NaN  "
      ]
     },
     "execution_count": 11,
     "metadata": {},
     "output_type": "execute_result"
    }
   ],
   "source": [
    "# mask for gender\n",
    "mask = df[\"Group\"] == \"By Gender\"\n",
    "gender_df = df[mask]\n",
    "\n",
    "# mask for anxiety disorder by gender\n",
    "mask2 = gender_df[\"Indicator\"] == \"Symptoms of Anxiety Disorder\"\n",
    "anx_gen_df = gender_df[mask2]\n",
    "\n",
    "anx_gen_df.head()"
   ]
  },
  {
   "cell_type": "markdown",
   "id": "166a6b4a",
   "metadata": {},
   "source": [
    "**Male Anxiety**"
   ]
  },
  {
   "cell_type": "code",
   "execution_count": 12,
   "id": "9d6b03bc",
   "metadata": {},
   "outputs": [
    {
     "data": {
      "text/html": [
       "<div>\n",
       "<style scoped>\n",
       "    .dataframe tbody tr th:only-of-type {\n",
       "        vertical-align: middle;\n",
       "    }\n",
       "\n",
       "    .dataframe tbody tr th {\n",
       "        vertical-align: top;\n",
       "    }\n",
       "\n",
       "    .dataframe thead th {\n",
       "        text-align: right;\n",
       "    }\n",
       "</style>\n",
       "<table border=\"1\" class=\"dataframe\">\n",
       "  <thead>\n",
       "    <tr style=\"text-align: right;\">\n",
       "      <th></th>\n",
       "      <th>Indicator</th>\n",
       "      <th>Group</th>\n",
       "      <th>State</th>\n",
       "      <th>Subgroup</th>\n",
       "      <th>Week</th>\n",
       "      <th>Week Label</th>\n",
       "      <th>Value</th>\n",
       "      <th>Low CI</th>\n",
       "      <th>High CI</th>\n",
       "      <th>Confidence Interval</th>\n",
       "      <th>Quartile range</th>\n",
       "    </tr>\n",
       "  </thead>\n",
       "  <tbody>\n",
       "    <tr>\n",
       "      <th>78</th>\n",
       "      <td>Symptoms of Anxiety Disorder</td>\n",
       "      <td>By Gender</td>\n",
       "      <td>United States</td>\n",
       "      <td>Male</td>\n",
       "      <td>1</td>\n",
       "      <td>Apr 23 - May 5</td>\n",
       "      <td>26.1</td>\n",
       "      <td>24.7</td>\n",
       "      <td>27.5</td>\n",
       "      <td>24.7 - 27.5</td>\n",
       "      <td>NaN</td>\n",
       "    </tr>\n",
       "    <tr>\n",
       "      <th>288</th>\n",
       "      <td>Symptoms of Anxiety Disorder</td>\n",
       "      <td>By Gender</td>\n",
       "      <td>United States</td>\n",
       "      <td>Male</td>\n",
       "      <td>2</td>\n",
       "      <td>May 7 - May 12</td>\n",
       "      <td>26.7</td>\n",
       "      <td>24.9</td>\n",
       "      <td>28.5</td>\n",
       "      <td>24.9 - 28.5</td>\n",
       "      <td>NaN</td>\n",
       "    </tr>\n",
       "    <tr>\n",
       "      <th>498</th>\n",
       "      <td>Symptoms of Anxiety Disorder</td>\n",
       "      <td>By Gender</td>\n",
       "      <td>United States</td>\n",
       "      <td>Male</td>\n",
       "      <td>3</td>\n",
       "      <td>May 14 - May 19</td>\n",
       "      <td>24.2</td>\n",
       "      <td>23.2</td>\n",
       "      <td>25.2</td>\n",
       "      <td>23.2 - 25.2</td>\n",
       "      <td>NaN</td>\n",
       "    </tr>\n",
       "    <tr>\n",
       "      <th>708</th>\n",
       "      <td>Symptoms of Anxiety Disorder</td>\n",
       "      <td>By Gender</td>\n",
       "      <td>United States</td>\n",
       "      <td>Male</td>\n",
       "      <td>4</td>\n",
       "      <td>May 21 - May 26</td>\n",
       "      <td>25.4</td>\n",
       "      <td>24.4</td>\n",
       "      <td>26.3</td>\n",
       "      <td>24.4 - 26.3</td>\n",
       "      <td>NaN</td>\n",
       "    </tr>\n",
       "    <tr>\n",
       "      <th>918</th>\n",
       "      <td>Symptoms of Anxiety Disorder</td>\n",
       "      <td>By Gender</td>\n",
       "      <td>United States</td>\n",
       "      <td>Male</td>\n",
       "      <td>5</td>\n",
       "      <td>May 28 - June 2</td>\n",
       "      <td>26.0</td>\n",
       "      <td>25.1</td>\n",
       "      <td>26.8</td>\n",
       "      <td>25.1 - 26.8</td>\n",
       "      <td>NaN</td>\n",
       "    </tr>\n",
       "  </tbody>\n",
       "</table>\n",
       "</div>"
      ],
      "text/plain": [
       "                        Indicator      Group          State Subgroup  Week  \\\n",
       "78   Symptoms of Anxiety Disorder  By Gender  United States     Male     1   \n",
       "288  Symptoms of Anxiety Disorder  By Gender  United States     Male     2   \n",
       "498  Symptoms of Anxiety Disorder  By Gender  United States     Male     3   \n",
       "708  Symptoms of Anxiety Disorder  By Gender  United States     Male     4   \n",
       "918  Symptoms of Anxiety Disorder  By Gender  United States     Male     5   \n",
       "\n",
       "          Week Label  Value  Low CI  High CI Confidence Interval  \\\n",
       "78    Apr 23 - May 5   26.1    24.7     27.5         24.7 - 27.5   \n",
       "288   May 7 - May 12   26.7    24.9     28.5         24.9 - 28.5   \n",
       "498  May 14 - May 19   24.2    23.2     25.2         23.2 - 25.2   \n",
       "708  May 21 - May 26   25.4    24.4     26.3         24.4 - 26.3   \n",
       "918  May 28 - June 2   26.0    25.1     26.8         25.1 - 26.8   \n",
       "\n",
       "    Quartile range  \n",
       "78             NaN  \n",
       "288            NaN  \n",
       "498            NaN  \n",
       "708            NaN  \n",
       "918            NaN  "
      ]
     },
     "execution_count": 12,
     "metadata": {},
     "output_type": "execute_result"
    }
   ],
   "source": [
    "m_mask = anx_gen_df[\"Subgroup\"] == \"Male\"\n",
    "m_anx_gen_df = anx_gen_df[m_mask]\n",
    "\n",
    "m_anx_gen_df.head()"
   ]
  },
  {
   "cell_type": "code",
   "execution_count": 13,
   "id": "cf8baa7e",
   "metadata": {},
   "outputs": [
    {
     "data": {
      "text/html": [
       "<div>\n",
       "<style scoped>\n",
       "    .dataframe tbody tr th:only-of-type {\n",
       "        vertical-align: middle;\n",
       "    }\n",
       "\n",
       "    .dataframe tbody tr th {\n",
       "        vertical-align: top;\n",
       "    }\n",
       "\n",
       "    .dataframe thead th {\n",
       "        text-align: right;\n",
       "    }\n",
       "</style>\n",
       "<table border=\"1\" class=\"dataframe\">\n",
       "  <thead>\n",
       "    <tr style=\"text-align: right;\">\n",
       "      <th></th>\n",
       "      <th>Week</th>\n",
       "      <th>Value</th>\n",
       "      <th>Low CI</th>\n",
       "      <th>High CI</th>\n",
       "    </tr>\n",
       "  </thead>\n",
       "  <tbody>\n",
       "    <tr>\n",
       "      <th>count</th>\n",
       "      <td>7.000000</td>\n",
       "      <td>7.000000</td>\n",
       "      <td>7.000000</td>\n",
       "      <td>7.000000</td>\n",
       "    </tr>\n",
       "    <tr>\n",
       "      <th>mean</th>\n",
       "      <td>4.000000</td>\n",
       "      <td>26.185714</td>\n",
       "      <td>24.957143</td>\n",
       "      <td>27.428571</td>\n",
       "    </tr>\n",
       "    <tr>\n",
       "      <th>std</th>\n",
       "      <td>2.160247</td>\n",
       "      <td>1.218508</td>\n",
       "      <td>1.144344</td>\n",
       "      <td>1.427952</td>\n",
       "    </tr>\n",
       "    <tr>\n",
       "      <th>min</th>\n",
       "      <td>1.000000</td>\n",
       "      <td>24.200000</td>\n",
       "      <td>23.200000</td>\n",
       "      <td>25.200000</td>\n",
       "    </tr>\n",
       "    <tr>\n",
       "      <th>25%</th>\n",
       "      <td>2.500000</td>\n",
       "      <td>25.700000</td>\n",
       "      <td>24.550000</td>\n",
       "      <td>26.550000</td>\n",
       "    </tr>\n",
       "    <tr>\n",
       "      <th>50%</th>\n",
       "      <td>4.000000</td>\n",
       "      <td>26.100000</td>\n",
       "      <td>24.900000</td>\n",
       "      <td>27.500000</td>\n",
       "    </tr>\n",
       "    <tr>\n",
       "      <th>75%</th>\n",
       "      <td>5.500000</td>\n",
       "      <td>26.750000</td>\n",
       "      <td>25.250000</td>\n",
       "      <td>28.450000</td>\n",
       "    </tr>\n",
       "    <tr>\n",
       "      <th>max</th>\n",
       "      <td>7.000000</td>\n",
       "      <td>28.100000</td>\n",
       "      <td>27.000000</td>\n",
       "      <td>29.300000</td>\n",
       "    </tr>\n",
       "  </tbody>\n",
       "</table>\n",
       "</div>"
      ],
      "text/plain": [
       "           Week      Value     Low CI    High CI\n",
       "count  7.000000   7.000000   7.000000   7.000000\n",
       "mean   4.000000  26.185714  24.957143  27.428571\n",
       "std    2.160247   1.218508   1.144344   1.427952\n",
       "min    1.000000  24.200000  23.200000  25.200000\n",
       "25%    2.500000  25.700000  24.550000  26.550000\n",
       "50%    4.000000  26.100000  24.900000  27.500000\n",
       "75%    5.500000  26.750000  25.250000  28.450000\n",
       "max    7.000000  28.100000  27.000000  29.300000"
      ]
     },
     "execution_count": 13,
     "metadata": {},
     "output_type": "execute_result"
    }
   ],
   "source": [
    "m_anx_gen_df.describe()"
   ]
  },
  {
   "cell_type": "markdown",
   "id": "c7785976",
   "metadata": {},
   "source": [
    "Notes:\n",
    "\n",
    "- For *Value* for male, the mean is **26.185714** and the standard deviation is **1.218508**."
   ]
  },
  {
   "cell_type": "markdown",
   "id": "d7be1793",
   "metadata": {},
   "source": [
    "**Female Anxiety**"
   ]
  },
  {
   "cell_type": "code",
   "execution_count": 14,
   "id": "0297a1eb",
   "metadata": {},
   "outputs": [
    {
     "data": {
      "text/html": [
       "<div>\n",
       "<style scoped>\n",
       "    .dataframe tbody tr th:only-of-type {\n",
       "        vertical-align: middle;\n",
       "    }\n",
       "\n",
       "    .dataframe tbody tr th {\n",
       "        vertical-align: top;\n",
       "    }\n",
       "\n",
       "    .dataframe thead th {\n",
       "        text-align: right;\n",
       "    }\n",
       "</style>\n",
       "<table border=\"1\" class=\"dataframe\">\n",
       "  <thead>\n",
       "    <tr style=\"text-align: right;\">\n",
       "      <th></th>\n",
       "      <th>Indicator</th>\n",
       "      <th>Group</th>\n",
       "      <th>State</th>\n",
       "      <th>Subgroup</th>\n",
       "      <th>Week</th>\n",
       "      <th>Week Label</th>\n",
       "      <th>Value</th>\n",
       "      <th>Low CI</th>\n",
       "      <th>High CI</th>\n",
       "      <th>Confidence Interval</th>\n",
       "      <th>Quartile range</th>\n",
       "    </tr>\n",
       "  </thead>\n",
       "  <tbody>\n",
       "    <tr>\n",
       "      <th>79</th>\n",
       "      <td>Symptoms of Anxiety Disorder</td>\n",
       "      <td>By Gender</td>\n",
       "      <td>United States</td>\n",
       "      <td>Female</td>\n",
       "      <td>1</td>\n",
       "      <td>Apr 23 - May 5</td>\n",
       "      <td>35.4</td>\n",
       "      <td>34.5</td>\n",
       "      <td>36.3</td>\n",
       "      <td>34.5 - 36.3</td>\n",
       "      <td>NaN</td>\n",
       "    </tr>\n",
       "    <tr>\n",
       "      <th>289</th>\n",
       "      <td>Symptoms of Anxiety Disorder</td>\n",
       "      <td>By Gender</td>\n",
       "      <td>United States</td>\n",
       "      <td>Female</td>\n",
       "      <td>2</td>\n",
       "      <td>May 7 - May 12</td>\n",
       "      <td>33.1</td>\n",
       "      <td>32.0</td>\n",
       "      <td>34.2</td>\n",
       "      <td>32.0 - 34.2</td>\n",
       "      <td>NaN</td>\n",
       "    </tr>\n",
       "    <tr>\n",
       "      <th>499</th>\n",
       "      <td>Symptoms of Anxiety Disorder</td>\n",
       "      <td>By Gender</td>\n",
       "      <td>United States</td>\n",
       "      <td>Female</td>\n",
       "      <td>3</td>\n",
       "      <td>May 14 - May 19</td>\n",
       "      <td>32.1</td>\n",
       "      <td>31.0</td>\n",
       "      <td>33.1</td>\n",
       "      <td>31.0 - 33.1</td>\n",
       "      <td>NaN</td>\n",
       "    </tr>\n",
       "    <tr>\n",
       "      <th>709</th>\n",
       "      <td>Symptoms of Anxiety Disorder</td>\n",
       "      <td>By Gender</td>\n",
       "      <td>United States</td>\n",
       "      <td>Female</td>\n",
       "      <td>4</td>\n",
       "      <td>May 21 - May 26</td>\n",
       "      <td>33.2</td>\n",
       "      <td>32.3</td>\n",
       "      <td>34.2</td>\n",
       "      <td>32.3 - 34.2</td>\n",
       "      <td>NaN</td>\n",
       "    </tr>\n",
       "    <tr>\n",
       "      <th>919</th>\n",
       "      <td>Symptoms of Anxiety Disorder</td>\n",
       "      <td>By Gender</td>\n",
       "      <td>United States</td>\n",
       "      <td>Female</td>\n",
       "      <td>5</td>\n",
       "      <td>May 28 - June 2</td>\n",
       "      <td>35.0</td>\n",
       "      <td>34.3</td>\n",
       "      <td>35.8</td>\n",
       "      <td>34.3 - 35.8</td>\n",
       "      <td>NaN</td>\n",
       "    </tr>\n",
       "  </tbody>\n",
       "</table>\n",
       "</div>"
      ],
      "text/plain": [
       "                        Indicator      Group          State Subgroup  Week  \\\n",
       "79   Symptoms of Anxiety Disorder  By Gender  United States   Female     1   \n",
       "289  Symptoms of Anxiety Disorder  By Gender  United States   Female     2   \n",
       "499  Symptoms of Anxiety Disorder  By Gender  United States   Female     3   \n",
       "709  Symptoms of Anxiety Disorder  By Gender  United States   Female     4   \n",
       "919  Symptoms of Anxiety Disorder  By Gender  United States   Female     5   \n",
       "\n",
       "          Week Label  Value  Low CI  High CI Confidence Interval  \\\n",
       "79    Apr 23 - May 5   35.4    34.5     36.3         34.5 - 36.3   \n",
       "289   May 7 - May 12   33.1    32.0     34.2         32.0 - 34.2   \n",
       "499  May 14 - May 19   32.1    31.0     33.1         31.0 - 33.1   \n",
       "709  May 21 - May 26   33.2    32.3     34.2         32.3 - 34.2   \n",
       "919  May 28 - June 2   35.0    34.3     35.8         34.3 - 35.8   \n",
       "\n",
       "    Quartile range  \n",
       "79             NaN  \n",
       "289            NaN  \n",
       "499            NaN  \n",
       "709            NaN  \n",
       "919            NaN  "
      ]
     },
     "execution_count": 14,
     "metadata": {},
     "output_type": "execute_result"
    }
   ],
   "source": [
    "f_mask = anx_gen_df[\"Subgroup\"] == \"Female\"\n",
    "f_anx_gen_df = anx_gen_df[f_mask]\n",
    "\n",
    "f_anx_gen_df.head()"
   ]
  },
  {
   "cell_type": "code",
   "execution_count": 15,
   "id": "4d940bf7",
   "metadata": {},
   "outputs": [
    {
     "data": {
      "text/html": [
       "<div>\n",
       "<style scoped>\n",
       "    .dataframe tbody tr th:only-of-type {\n",
       "        vertical-align: middle;\n",
       "    }\n",
       "\n",
       "    .dataframe tbody tr th {\n",
       "        vertical-align: top;\n",
       "    }\n",
       "\n",
       "    .dataframe thead th {\n",
       "        text-align: right;\n",
       "    }\n",
       "</style>\n",
       "<table border=\"1\" class=\"dataframe\">\n",
       "  <thead>\n",
       "    <tr style=\"text-align: right;\">\n",
       "      <th></th>\n",
       "      <th>Week</th>\n",
       "      <th>Value</th>\n",
       "      <th>Low CI</th>\n",
       "      <th>High CI</th>\n",
       "    </tr>\n",
       "  </thead>\n",
       "  <tbody>\n",
       "    <tr>\n",
       "      <th>count</th>\n",
       "      <td>7.000000</td>\n",
       "      <td>7.000000</td>\n",
       "      <td>7.000000</td>\n",
       "      <td>7.000</td>\n",
       "    </tr>\n",
       "    <tr>\n",
       "      <th>mean</th>\n",
       "      <td>4.000000</td>\n",
       "      <td>34.128571</td>\n",
       "      <td>33.185714</td>\n",
       "      <td>35.100</td>\n",
       "    </tr>\n",
       "    <tr>\n",
       "      <th>std</th>\n",
       "      <td>2.160247</td>\n",
       "      <td>1.298351</td>\n",
       "      <td>1.390957</td>\n",
       "      <td>1.249</td>\n",
       "    </tr>\n",
       "    <tr>\n",
       "      <th>min</th>\n",
       "      <td>1.000000</td>\n",
       "      <td>32.100000</td>\n",
       "      <td>31.000000</td>\n",
       "      <td>33.100</td>\n",
       "    </tr>\n",
       "    <tr>\n",
       "      <th>25%</th>\n",
       "      <td>2.500000</td>\n",
       "      <td>33.150000</td>\n",
       "      <td>32.150000</td>\n",
       "      <td>34.200</td>\n",
       "    </tr>\n",
       "    <tr>\n",
       "      <th>50%</th>\n",
       "      <td>4.000000</td>\n",
       "      <td>35.000000</td>\n",
       "      <td>34.100000</td>\n",
       "      <td>35.800</td>\n",
       "    </tr>\n",
       "    <tr>\n",
       "      <th>75%</th>\n",
       "      <td>5.500000</td>\n",
       "      <td>35.050000</td>\n",
       "      <td>34.200000</td>\n",
       "      <td>36.050</td>\n",
       "    </tr>\n",
       "    <tr>\n",
       "      <th>max</th>\n",
       "      <td>7.000000</td>\n",
       "      <td>35.400000</td>\n",
       "      <td>34.500000</td>\n",
       "      <td>36.300</td>\n",
       "    </tr>\n",
       "  </tbody>\n",
       "</table>\n",
       "</div>"
      ],
      "text/plain": [
       "           Week      Value     Low CI  High CI\n",
       "count  7.000000   7.000000   7.000000    7.000\n",
       "mean   4.000000  34.128571  33.185714   35.100\n",
       "std    2.160247   1.298351   1.390957    1.249\n",
       "min    1.000000  32.100000  31.000000   33.100\n",
       "25%    2.500000  33.150000  32.150000   34.200\n",
       "50%    4.000000  35.000000  34.100000   35.800\n",
       "75%    5.500000  35.050000  34.200000   36.050\n",
       "max    7.000000  35.400000  34.500000   36.300"
      ]
     },
     "execution_count": 15,
     "metadata": {},
     "output_type": "execute_result"
    }
   ],
   "source": [
    "f_anx_gen_df.describe()"
   ]
  },
  {
   "cell_type": "markdown",
   "id": "13b5ca1d",
   "metadata": {},
   "source": [
    "Notes:\n",
    "\n",
    "- For *Value* for female, the mean is **34.128571** and the standard deviation is **1.298351**."
   ]
  },
  {
   "cell_type": "markdown",
   "id": "73e31a91",
   "metadata": {},
   "source": [
    "**HYPOTHESIS TESTING (2-sided)**\n",
    "\n",
    "$$H_0: \\mu_1 = \\mu_2$$\n",
    "\n",
    "$$H_1: \\mu_1 \\neq \\mu_2$$\n",
    "\n",
    "where group 1 is *Male* and group 2 is *Female*.\n",
    "\n",
    "We are testing a two-sided alternative hypothesis test to see if the **mean** *Value* is different.\n",
    "\n",
    "Suppose we use a significance level of 5% or $\\alpha = 0.05$."
   ]
  },
  {
   "cell_type": "code",
   "execution_count": 16,
   "id": "cf162766",
   "metadata": {},
   "outputs": [
    {
     "data": {
      "text/plain": [
       "Ttest_indResult(statistic=array([-11.80221504]), pvalue=array([6.05918604e-08]))"
      ]
     },
     "execution_count": 16,
     "metadata": {},
     "output_type": "execute_result"
    }
   ],
   "source": [
    "m_value = m_anx_gen_df[[\"Value\"]]\n",
    "f_value = f_anx_gen_df[[\"Value\"]]\n",
    "\n",
    "# perform 2-sided t-test\n",
    "stats.ttest_ind(m_value, f_value, \n",
    "                equal_var = False)"
   ]
  },
  {
   "cell_type": "code",
   "execution_count": 17,
   "id": "9322ca1e",
   "metadata": {},
   "outputs": [
    {
     "data": {
      "text/plain": [
       "6.059186037314622e-08"
      ]
     },
     "execution_count": 17,
     "metadata": {},
     "output_type": "execute_result"
    }
   ],
   "source": [
    "stats.ttest_ind(m_value, f_value, \n",
    "                equal_var = False).pvalue[0]"
   ]
  },
  {
   "cell_type": "markdown",
   "id": "92842eb6",
   "metadata": {},
   "source": [
    "We see that the p-value for our t-test is about $6.0592 x 10^{-8}$. Since this value is less than our significance level of $\\alpha = 0.05$, we can **reject** the null hypothesis. There is enough evidence to conclude that **there is a difference of means of the value score between males and females**.\n",
    "\n",
    "Given the mean values for male and female, it seems that the mean value for females is larger, so it may help to look into conducting a one-sided t-test."
   ]
  },
  {
   "cell_type": "markdown",
   "id": "e46f368c",
   "metadata": {},
   "source": [
    "**HYPOTHESIS TESTING (1-sided)**\n",
    "\n",
    "$$H_0: \\mu_1 = \\mu_2$$\n",
    "\n",
    "$$H_1: \\mu_1 < \\mu_2$$\n",
    "\n",
    "where group 1 is *Male* and group 2 is *Female*.\n",
    "\n",
    "We are testing a one-sided alternative hypothesis test to see if the **mean** *Value* for males is less than that of females.\n",
    "\n",
    "Suppose we use a significance level of 5% or $\\alpha = 0.05$."
   ]
  },
  {
   "cell_type": "code",
   "execution_count": 18,
   "id": "e326de9d",
   "metadata": {},
   "outputs": [
    {
     "data": {
      "text/plain": [
       "Ttest_indResult(statistic=array([-11.80221504]), pvalue=array([3.02959302e-08]))"
      ]
     },
     "execution_count": 18,
     "metadata": {},
     "output_type": "execute_result"
    }
   ],
   "source": [
    "# perform one-sided t-test\n",
    "stats.ttest_ind(m_value, f_value, \n",
    "                alternative = 'less', \n",
    "                equal_var = False)"
   ]
  },
  {
   "cell_type": "code",
   "execution_count": 19,
   "id": "92004108",
   "metadata": {},
   "outputs": [
    {
     "data": {
      "text/plain": [
       "3.029593018657311e-08"
      ]
     },
     "execution_count": 19,
     "metadata": {},
     "output_type": "execute_result"
    }
   ],
   "source": [
    "stats.ttest_ind(m_value, f_value, \n",
    "                alternative = 'less', \n",
    "                equal_var = False).pvalue[0]"
   ]
  },
  {
   "cell_type": "markdown",
   "id": "051815a5",
   "metadata": {},
   "source": [
    "**Conclusion**\n",
    "\n",
    "We see that the p-value for our t-test is about $3.0296 x 10^{-8}$. Since this value is less than our significance level of $\\alpha = 0.05$, we can **reject** the null hypothesis. There is enough evidence to conclude that **males have a smaller mean value than females regarding indicating anxiety**.\n",
    "\n",
    "In other words, it seems that females on average have a higher mean value for having anxiety."
   ]
  },
  {
   "cell_type": "markdown",
   "id": "a8cefdc5",
   "metadata": {},
   "source": [
    "Other Notes:\n",
    "- States has 52 total values; two of those values are \"United States\" and \"District of Columbia\"\n",
    "\n",
    "- \"quartile_range\" has missing values\n",
    "\n",
    "- 490 rows with \"Symptoms of Anxiety Disorder\"\n",
    "\n",
    "- Score for ranking (Average); higher value = higher correspondence"
   ]
  },
  {
   "cell_type": "markdown",
   "id": "89fdacda",
   "metadata": {},
   "source": [
    "**Visualization of Gender Difference**"
   ]
  },
  {
   "cell_type": "code",
   "execution_count": 20,
   "id": "1ba0489d",
   "metadata": {},
   "outputs": [
    {
     "data": {
      "text/plain": [
       "<matplotlib.legend.Legend at 0x7fca1b9f9e20>"
      ]
     },
     "execution_count": 20,
     "metadata": {},
     "output_type": "execute_result"
    },
    {
     "data": {
      "image/png": "[encoded data removed]",
      "text/plain": [
       "<Figure size 360x360 with 1 Axes>"
      ]
     },
     "metadata": {
      "needs_background": "light"
     },
     "output_type": "display_data"
    }
   ],
   "source": [
    "fig = plt.figure(figsize = (5, 5))\n",
    "\n",
    "plt.bar(anx_gen_df[\"Subgroup\"], \n",
    "        anx_gen_df[\"Value\"], \n",
    "       width = 0.4,\n",
    "       color = \"lightskyblue\",\n",
    "       label = \"Gender Mean Values\")\n",
    "\n",
    "plt.xlabel(\"Gender\")\n",
    "\n",
    "plt.ylabel(\"Mean Value\")\n",
    "\n",
    "plt.title(\"Mean Value by Gender\")\n",
    "\n",
    "plt.axhline(y = np.mean(anx_gen_df[\"Value\"]),\n",
    "           color = \"r\",\n",
    "           linestyle = \"--\",\n",
    "           label = \"Overall Mean\")\n",
    "\n",
    "plt.legend()"
   ]
  },
  {
   "cell_type": "markdown",
   "id": "1f475f5d",
   "metadata": {},
   "source": [
    "**Model**"
   ]
  },
  {
   "cell_type": "code",
   "execution_count": 21,
   "id": "b314d50b",
   "metadata": {},
   "outputs": [
    {
     "data": {
      "text/html": [
       "<div>\n",
       "<style scoped>\n",
       "    .dataframe tbody tr th:only-of-type {\n",
       "        vertical-align: middle;\n",
       "    }\n",
       "\n",
       "    .dataframe tbody tr th {\n",
       "        vertical-align: top;\n",
       "    }\n",
       "\n",
       "    .dataframe thead th {\n",
       "        text-align: right;\n",
       "    }\n",
       "</style>\n",
       "<table border=\"1\" class=\"dataframe\">\n",
       "  <thead>\n",
       "    <tr style=\"text-align: right;\">\n",
       "      <th></th>\n",
       "      <th>df</th>\n",
       "      <th>sum_sq</th>\n",
       "      <th>mean_sq</th>\n",
       "      <th>F</th>\n",
       "      <th>PR(&gt;F)</th>\n",
       "    </tr>\n",
       "  </thead>\n",
       "  <tbody>\n",
       "    <tr>\n",
       "      <th>C(Subgroup)</th>\n",
       "      <td>1.0</td>\n",
       "      <td>220.811429</td>\n",
       "      <td>220.811429</td>\n",
       "      <td>139.29228</td>\n",
       "      <td>5.818425e-08</td>\n",
       "    </tr>\n",
       "    <tr>\n",
       "      <th>Residual</th>\n",
       "      <td>12.0</td>\n",
       "      <td>19.022857</td>\n",
       "      <td>1.585238</td>\n",
       "      <td>NaN</td>\n",
       "      <td>NaN</td>\n",
       "    </tr>\n",
       "  </tbody>\n",
       "</table>\n",
       "</div>"
      ],
      "text/plain": [
       "               df      sum_sq     mean_sq          F        PR(>F)\n",
       "C(Subgroup)   1.0  220.811429  220.811429  139.29228  5.818425e-08\n",
       "Residual     12.0   19.022857    1.585238        NaN           NaN"
      ]
     },
     "execution_count": 21,
     "metadata": {},
     "output_type": "execute_result"
    }
   ],
   "source": [
    "model = ols('Value ~ C(Subgroup)', \n",
    "            data = anx_gen_df).fit()\n",
    "\n",
    "sm.stats.anova_lm(model, type = 2)"
   ]
  },
  {
   "cell_type": "code",
   "execution_count": 22,
   "id": "745fb3c9",
   "metadata": {},
   "outputs": [
    {
     "name": "stderr",
     "output_type": "stream",
     "text": [
      "/opt/anaconda3/lib/python3.9/site-packages/scipy/stats/stats.py:1541: UserWarning: kurtosistest only valid for n>=20 ... continuing anyway, n=14\n",
      "  warnings.warn(\"kurtosistest only valid for n>=20 ... continuing \"\n"
     ]
    },
    {
     "data": {
      "text/html": [
       "<table class=\"simpletable\">\n",
       "<caption>OLS Regression Results</caption>\n",
       "<tr>\n",
       "  <th>Dep. Variable:</th>          <td>Value</td>      <th>  R-squared:         </th> <td>   0.921</td>\n",
       "</tr>\n",
       "<tr>\n",
       "  <th>Model:</th>                   <td>OLS</td>       <th>  Adj. R-squared:    </th> <td>   0.914</td>\n",
       "</tr>\n",
       "<tr>\n",
       "  <th>Method:</th>             <td>Least Squares</td>  <th>  F-statistic:       </th> <td>   139.3</td>\n",
       "</tr>\n",
       "<tr>\n",
       "  <th>Date:</th>             <td>Thu, 03 Aug 2023</td> <th>  Prob (F-statistic):</th> <td>5.82e-08</td>\n",
       "</tr>\n",
       "<tr>\n",
       "  <th>Time:</th>                 <td>22:09:59</td>     <th>  Log-Likelihood:    </th> <td> -22.011</td>\n",
       "</tr>\n",
       "<tr>\n",
       "  <th>No. Observations:</th>      <td>    14</td>      <th>  AIC:               </th> <td>   48.02</td>\n",
       "</tr>\n",
       "<tr>\n",
       "  <th>Df Residuals:</th>          <td>    12</td>      <th>  BIC:               </th> <td>   49.30</td>\n",
       "</tr>\n",
       "<tr>\n",
       "  <th>Df Model:</th>              <td>     1</td>      <th>                     </th>     <td> </td>   \n",
       "</tr>\n",
       "<tr>\n",
       "  <th>Covariance Type:</th>      <td>nonrobust</td>    <th>                     </th>     <td> </td>   \n",
       "</tr>\n",
       "</table>\n",
       "<table class=\"simpletable\">\n",
       "<tr>\n",
       "           <td></td>              <th>coef</th>     <th>std err</th>      <th>t</th>      <th>P>|t|</th>  <th>[0.025</th>    <th>0.975]</th>  \n",
       "</tr>\n",
       "<tr>\n",
       "  <th>Intercept</th>           <td>   34.1286</td> <td>    0.476</td> <td>   71.717</td> <td> 0.000</td> <td>   33.092</td> <td>   35.165</td>\n",
       "</tr>\n",
       "<tr>\n",
       "  <th>C(Subgroup)[T.Male]</th> <td>   -7.9429</td> <td>    0.673</td> <td>  -11.802</td> <td> 0.000</td> <td>   -9.409</td> <td>   -6.477</td>\n",
       "</tr>\n",
       "</table>\n",
       "<table class=\"simpletable\">\n",
       "<tr>\n",
       "  <th>Omnibus:</th>       <td> 0.855</td> <th>  Durbin-Watson:     </th> <td>   0.584</td>\n",
       "</tr>\n",
       "<tr>\n",
       "  <th>Prob(Omnibus):</th> <td> 0.652</td> <th>  Jarque-Bera (JB):  </th> <td>   0.750</td>\n",
       "</tr>\n",
       "<tr>\n",
       "  <th>Skew:</th>          <td>-0.310</td> <th>  Prob(JB):          </th> <td>   0.687</td>\n",
       "</tr>\n",
       "<tr>\n",
       "  <th>Kurtosis:</th>      <td> 2.051</td> <th>  Cond. No.          </th> <td>    2.62</td>\n",
       "</tr>\n",
       "</table><br/><br/>Notes:<br/>[1] Standard Errors assume that the covariance matrix of the errors is correctly specified."
      ],
      "text/plain": [
       "<class 'statsmodels.iolib.summary.Summary'>\n",
       "\"\"\"\n",
       "                            OLS Regression Results                            \n",
       "==============================================================================\n",
       "Dep. Variable:                  Value   R-squared:                       0.921\n",
       "Model:                            OLS   Adj. R-squared:                  0.914\n",
       "Method:                 Least Squares   F-statistic:                     139.3\n",
       "Date:                Thu, 03 Aug 2023   Prob (F-statistic):           5.82e-08\n",
       "Time:                        22:09:59   Log-Likelihood:                -22.011\n",
       "No. Observations:                  14   AIC:                             48.02\n",
       "Df Residuals:                      12   BIC:                             49.30\n",
       "Df Model:                           1                                         \n",
       "Covariance Type:            nonrobust                                         \n",
       "=======================================================================================\n",
       "                          coef    std err          t      P>|t|      [0.025      0.975]\n",
       "---------------------------------------------------------------------------------------\n",
       "Intercept              34.1286      0.476     71.717      0.000      33.092      35.165\n",
       "C(Subgroup)[T.Male]    -7.9429      0.673    -11.802      0.000      -9.409      -6.477\n",
       "==============================================================================\n",
       "Omnibus:                        0.855   Durbin-Watson:                   0.584\n",
       "Prob(Omnibus):                  0.652   Jarque-Bera (JB):                0.750\n",
       "Skew:                          -0.310   Prob(JB):                        0.687\n",
       "Kurtosis:                       2.051   Cond. No.                         2.62\n",
       "==============================================================================\n",
       "\n",
       "Notes:\n",
       "[1] Standard Errors assume that the covariance matrix of the errors is correctly specified.\n",
       "\"\"\""
      ]
     },
     "execution_count": 22,
     "metadata": {},
     "output_type": "execute_result"
    }
   ],
   "source": [
    "model.summary()"
   ]
  },
  {
   "cell_type": "code",
   "execution_count": 23,
   "id": "674aeb25",
   "metadata": {},
   "outputs": [
    {
     "data": {
      "text/plain": [
       "Intercept              3.591882e-17\n",
       "C(Subgroup)[T.Male]    5.818425e-08\n",
       "dtype: float64"
      ]
     },
     "execution_count": 23,
     "metadata": {},
     "output_type": "execute_result"
    }
   ],
   "source": [
    "model.pvalues"
   ]
  },
  {
   "cell_type": "code",
   "execution_count": 24,
   "id": "a8feca85",
   "metadata": {},
   "outputs": [
    {
     "data": {
      "text/plain": [
       "Text(0.5, 0.98, 'Plot of Dummy Variables')"
      ]
     },
     "execution_count": 24,
     "metadata": {},
     "output_type": "execute_result"
    },
    {
     "data": {
      "image/png": "[encoded data removed]",
      "text/plain": [
       "<Figure size 432x288 with 1 Axes>"
      ]
     },
     "metadata": {
      "needs_background": "light"
     },
     "output_type": "display_data"
    }
   ],
   "source": [
    "ax = anx_gen_df.plot(x = 'Subgroup',\n",
    "                      y = 'Value', \n",
    "                      kind = 'scatter')\n",
    "\n",
    "plt.xlabel(\"Gender\")\n",
    "\n",
    "\n",
    "# left to right\n",
    "x = [0, 1]\n",
    "\n",
    "y = [34.1286 - 7.9429, 34.1286]\n",
    "\n",
    "plt.plot(x, y)\n",
    "\n",
    "plt.suptitle(\"Plot of Dummy Variables\")"
   ]
  },
  {
   "cell_type": "code",
   "execution_count": 26,
   "id": "b38ab334",
   "metadata": {},
   "outputs": [
    {
     "data": {
      "text/plain": [
       "Text(0, 0.5, 'Gender')"
      ]
     },
     "execution_count": 26,
     "metadata": {},
     "output_type": "execute_result"
    },
    {
     "data": {
      "image/png": "[encoded data removed]",
      "text/plain": [
       "<Figure size 432x288 with 1 Axes>"
      ]
     },
     "metadata": {
      "needs_background": "light"
     },
     "output_type": "display_data"
    }
   ],
   "source": [
    "anx_gen_df.boxplot(column = \"Value\",\n",
    "                    by = \"Subgroup\",\n",
    "                   vert = False)\n",
    "\n",
    "plt.yticks(rotation = 45)\n",
    "\n",
    "plt.suptitle('Score Value grouped by Gender', fontsize=14, fontweight='bold')\n",
    "plt.title(\"\")\n",
    "plt.xlabel(\"Value\")\n",
    "plt.ylabel(\"Gender\")"
   ]
  },
  {
   "cell_type": "code",
   "execution_count": null,
   "id": "c2c26417",
   "metadata": {},
   "outputs": [],
   "source": []
  }
 ],
 "metadata": {
  "kernelspec": {
   "display_name": "Python 3 (ipykernel)",
   "language": "python",
   "name": "python3"
  },
  "language_info": {
   "codemirror_mode": {
    "name": "ipython",
    "version": 3
   },
   "file_extension": ".py",
   "mimetype": "text/x-python",
   "name": "python",
   "nbconvert_exporter": "python",
   "pygments_lexer": "ipython3",
   "version": "3.9.7"
  }
 },
 "nbformat": 4,
 "nbformat_minor": 5
}
