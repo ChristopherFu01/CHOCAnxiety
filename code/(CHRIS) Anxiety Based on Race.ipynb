{
 "cells": [
  {
   "cell_type": "code",
   "execution_count": 1,
   "id": "5b4b6f29",
   "metadata": {},
   "outputs": [],
   "source": [
    "import pandas as pd\n",
    "import matplotlib.pyplot as plt\n",
    "from scipy import stats\n",
    "import plotly as py\n",
    "import plotly.graph_objects as go\n",
    "import statsmodels.api as sm\n",
    "from statsmodels.formula.api import ols\n",
    "import seaborn as sns\n",
    "from statsmodels.graphics.regressionplots import abline_plot"
   ]
  },
  {
   "cell_type": "markdown",
   "id": "0f634da1",
   "metadata": {},
   "source": [
    "**Importing csv file and first 5 rows**"
   ]
  },
  {
   "cell_type": "code",
   "execution_count": 2,
   "id": "6c1bdbcd",
   "metadata": {},
   "outputs": [
    {
     "data": {
      "text/html": [
       "<div>\n",
       "<style scoped>\n",
       "    .dataframe tbody tr th:only-of-type {\n",
       "        vertical-align: middle;\n",
       "    }\n",
       "\n",
       "    .dataframe tbody tr th {\n",
       "        vertical-align: top;\n",
       "    }\n",
       "\n",
       "    .dataframe thead th {\n",
       "        text-align: right;\n",
       "    }\n",
       "</style>\n",
       "<table border=\"1\" class=\"dataframe\">\n",
       "  <thead>\n",
       "    <tr style=\"text-align: right;\">\n",
       "      <th></th>\n",
       "      <th>Indicator</th>\n",
       "      <th>Group</th>\n",
       "      <th>State</th>\n",
       "      <th>Subgroup</th>\n",
       "      <th>Week</th>\n",
       "      <th>Week Label</th>\n",
       "      <th>Value</th>\n",
       "      <th>Low CI</th>\n",
       "      <th>High CI</th>\n",
       "      <th>Confidence Interval</th>\n",
       "      <th>Quartile range</th>\n",
       "    </tr>\n",
       "  </thead>\n",
       "  <tbody>\n",
       "    <tr>\n",
       "      <th>0</th>\n",
       "      <td>Symptoms of Depressive Disorder</td>\n",
       "      <td>National Estimate</td>\n",
       "      <td>United States</td>\n",
       "      <td>United States</td>\n",
       "      <td>1</td>\n",
       "      <td>Apr 23 - May 5</td>\n",
       "      <td>23.5</td>\n",
       "      <td>22.7</td>\n",
       "      <td>24.3</td>\n",
       "      <td>22.7 - 24.3</td>\n",
       "      <td>NaN</td>\n",
       "    </tr>\n",
       "    <tr>\n",
       "      <th>1</th>\n",
       "      <td>Symptoms of Depressive Disorder</td>\n",
       "      <td>By Age</td>\n",
       "      <td>United States</td>\n",
       "      <td>18 - 29 years</td>\n",
       "      <td>1</td>\n",
       "      <td>Apr 23 - May 5</td>\n",
       "      <td>32.7</td>\n",
       "      <td>30.2</td>\n",
       "      <td>35.2</td>\n",
       "      <td>30.2 - 35.2</td>\n",
       "      <td>NaN</td>\n",
       "    </tr>\n",
       "    <tr>\n",
       "      <th>2</th>\n",
       "      <td>Symptoms of Depressive Disorder</td>\n",
       "      <td>By Age</td>\n",
       "      <td>United States</td>\n",
       "      <td>30 - 39 years</td>\n",
       "      <td>1</td>\n",
       "      <td>Apr 23 - May 5</td>\n",
       "      <td>25.7</td>\n",
       "      <td>24.1</td>\n",
       "      <td>27.3</td>\n",
       "      <td>24.1 - 27.3</td>\n",
       "      <td>NaN</td>\n",
       "    </tr>\n",
       "    <tr>\n",
       "      <th>3</th>\n",
       "      <td>Symptoms of Depressive Disorder</td>\n",
       "      <td>By Age</td>\n",
       "      <td>United States</td>\n",
       "      <td>40 - 49 years</td>\n",
       "      <td>1</td>\n",
       "      <td>Apr 23 - May 5</td>\n",
       "      <td>24.8</td>\n",
       "      <td>23.3</td>\n",
       "      <td>26.2</td>\n",
       "      <td>23.3 - 26.2</td>\n",
       "      <td>NaN</td>\n",
       "    </tr>\n",
       "    <tr>\n",
       "      <th>4</th>\n",
       "      <td>Symptoms of Depressive Disorder</td>\n",
       "      <td>By Age</td>\n",
       "      <td>United States</td>\n",
       "      <td>50 - 59 years</td>\n",
       "      <td>1</td>\n",
       "      <td>Apr 23 - May 5</td>\n",
       "      <td>23.2</td>\n",
       "      <td>21.5</td>\n",
       "      <td>25.0</td>\n",
       "      <td>21.5 - 25.0</td>\n",
       "      <td>NaN</td>\n",
       "    </tr>\n",
       "  </tbody>\n",
       "</table>\n",
       "</div>"
      ],
      "text/plain": [
       "                         Indicator              Group          State  \\\n",
       "0  Symptoms of Depressive Disorder  National Estimate  United States   \n",
       "1  Symptoms of Depressive Disorder             By Age  United States   \n",
       "2  Symptoms of Depressive Disorder             By Age  United States   \n",
       "3  Symptoms of Depressive Disorder             By Age  United States   \n",
       "4  Symptoms of Depressive Disorder             By Age  United States   \n",
       "\n",
       "        Subgroup  Week      Week Label  Value  Low CI  High CI  \\\n",
       "0  United States     1  Apr 23 - May 5   23.5    22.7     24.3   \n",
       "1  18 - 29 years     1  Apr 23 - May 5   32.7    30.2     35.2   \n",
       "2  30 - 39 years     1  Apr 23 - May 5   25.7    24.1     27.3   \n",
       "3  40 - 49 years     1  Apr 23 - May 5   24.8    23.3     26.2   \n",
       "4  50 - 59 years     1  Apr 23 - May 5   23.2    21.5     25.0   \n",
       "\n",
       "  Confidence Interval Quartile range  \n",
       "0         22.7 - 24.3            NaN  \n",
       "1         30.2 - 35.2            NaN  \n",
       "2         24.1 - 27.3            NaN  \n",
       "3         23.3 - 26.2            NaN  \n",
       "4         21.5 - 25.0            NaN  "
      ]
     },
     "execution_count": 2,
     "metadata": {},
     "output_type": "execute_result"
    }
   ],
   "source": [
    "df = pd.read_csv(\"csv-1.csv\")\n",
    "df.head()"
   ]
  },
  {
   "cell_type": "markdown",
   "id": "9f1189f5",
   "metadata": {},
   "source": [
    "**ANXIETY**"
   ]
  },
  {
   "cell_type": "code",
   "execution_count": 3,
   "id": "f9b02a9a",
   "metadata": {},
   "outputs": [
    {
     "data": {
      "text/html": [
       "<div>\n",
       "<style scoped>\n",
       "    .dataframe tbody tr th:only-of-type {\n",
       "        vertical-align: middle;\n",
       "    }\n",
       "\n",
       "    .dataframe tbody tr th {\n",
       "        vertical-align: top;\n",
       "    }\n",
       "\n",
       "    .dataframe thead th {\n",
       "        text-align: right;\n",
       "    }\n",
       "</style>\n",
       "<table border=\"1\" class=\"dataframe\">\n",
       "  <thead>\n",
       "    <tr style=\"text-align: right;\">\n",
       "      <th></th>\n",
       "      <th>Indicator</th>\n",
       "      <th>Group</th>\n",
       "      <th>State</th>\n",
       "      <th>Subgroup</th>\n",
       "      <th>Week</th>\n",
       "      <th>Week Label</th>\n",
       "      <th>Value</th>\n",
       "      <th>Low CI</th>\n",
       "      <th>High CI</th>\n",
       "      <th>Confidence Interval</th>\n",
       "      <th>Quartile range</th>\n",
       "    </tr>\n",
       "  </thead>\n",
       "  <tbody>\n",
       "    <tr>\n",
       "      <th>70</th>\n",
       "      <td>Symptoms of Anxiety Disorder</td>\n",
       "      <td>National Estimate</td>\n",
       "      <td>United States</td>\n",
       "      <td>United States</td>\n",
       "      <td>1</td>\n",
       "      <td>Apr 23 - May 5</td>\n",
       "      <td>30.8</td>\n",
       "      <td>30.0</td>\n",
       "      <td>31.7</td>\n",
       "      <td>30.0 - 31.7</td>\n",
       "      <td>NaN</td>\n",
       "    </tr>\n",
       "    <tr>\n",
       "      <th>71</th>\n",
       "      <td>Symptoms of Anxiety Disorder</td>\n",
       "      <td>By Age</td>\n",
       "      <td>United States</td>\n",
       "      <td>18 - 29 years</td>\n",
       "      <td>1</td>\n",
       "      <td>Apr 23 - May 5</td>\n",
       "      <td>40.2</td>\n",
       "      <td>38.1</td>\n",
       "      <td>42.4</td>\n",
       "      <td>38.1 - 42.4</td>\n",
       "      <td>NaN</td>\n",
       "    </tr>\n",
       "    <tr>\n",
       "      <th>72</th>\n",
       "      <td>Symptoms of Anxiety Disorder</td>\n",
       "      <td>By Age</td>\n",
       "      <td>United States</td>\n",
       "      <td>30 - 39 years</td>\n",
       "      <td>1</td>\n",
       "      <td>Apr 23 - May 5</td>\n",
       "      <td>34.4</td>\n",
       "      <td>32.6</td>\n",
       "      <td>36.1</td>\n",
       "      <td>32.6 - 36.1</td>\n",
       "      <td>NaN</td>\n",
       "    </tr>\n",
       "    <tr>\n",
       "      <th>73</th>\n",
       "      <td>Symptoms of Anxiety Disorder</td>\n",
       "      <td>By Age</td>\n",
       "      <td>United States</td>\n",
       "      <td>40 - 49 years</td>\n",
       "      <td>1</td>\n",
       "      <td>Apr 23 - May 5</td>\n",
       "      <td>34.1</td>\n",
       "      <td>32.1</td>\n",
       "      <td>36.2</td>\n",
       "      <td>32.1 - 36.2</td>\n",
       "      <td>NaN</td>\n",
       "    </tr>\n",
       "    <tr>\n",
       "      <th>74</th>\n",
       "      <td>Symptoms of Anxiety Disorder</td>\n",
       "      <td>By Age</td>\n",
       "      <td>United States</td>\n",
       "      <td>50 - 59 years</td>\n",
       "      <td>1</td>\n",
       "      <td>Apr 23 - May 5</td>\n",
       "      <td>31.0</td>\n",
       "      <td>29.0</td>\n",
       "      <td>33.1</td>\n",
       "      <td>29.0 - 33.1</td>\n",
       "      <td>NaN</td>\n",
       "    </tr>\n",
       "  </tbody>\n",
       "</table>\n",
       "</div>"
      ],
      "text/plain": [
       "                       Indicator              Group          State  \\\n",
       "70  Symptoms of Anxiety Disorder  National Estimate  United States   \n",
       "71  Symptoms of Anxiety Disorder             By Age  United States   \n",
       "72  Symptoms of Anxiety Disorder             By Age  United States   \n",
       "73  Symptoms of Anxiety Disorder             By Age  United States   \n",
       "74  Symptoms of Anxiety Disorder             By Age  United States   \n",
       "\n",
       "         Subgroup  Week      Week Label  Value  Low CI  High CI  \\\n",
       "70  United States     1  Apr 23 - May 5   30.8    30.0     31.7   \n",
       "71  18 - 29 years     1  Apr 23 - May 5   40.2    38.1     42.4   \n",
       "72  30 - 39 years     1  Apr 23 - May 5   34.4    32.6     36.1   \n",
       "73  40 - 49 years     1  Apr 23 - May 5   34.1    32.1     36.2   \n",
       "74  50 - 59 years     1  Apr 23 - May 5   31.0    29.0     33.1   \n",
       "\n",
       "   Confidence Interval Quartile range  \n",
       "70         30.0 - 31.7            NaN  \n",
       "71         38.1 - 42.4            NaN  \n",
       "72         32.6 - 36.1            NaN  \n",
       "73         32.1 - 36.2            NaN  \n",
       "74         29.0 - 33.1            NaN  "
      ]
     },
     "execution_count": 3,
     "metadata": {},
     "output_type": "execute_result"
    }
   ],
   "source": [
    "mask = df[\"Indicator\"] == \"Symptoms of Anxiety Disorder\"\n",
    "anx_df = df[mask]\n",
    "\n",
    "anx_df.head()"
   ]
  },
  {
   "cell_type": "markdown",
   "id": "6bf9baf8",
   "metadata": {},
   "source": [
    "**ANXIETY by Race**"
   ]
  },
  {
   "cell_type": "code",
   "execution_count": 4,
   "id": "790d2159",
   "metadata": {},
   "outputs": [
    {
     "data": {
      "text/html": [
       "<div>\n",
       "<style scoped>\n",
       "    .dataframe tbody tr th:only-of-type {\n",
       "        vertical-align: middle;\n",
       "    }\n",
       "\n",
       "    .dataframe tbody tr th {\n",
       "        vertical-align: top;\n",
       "    }\n",
       "\n",
       "    .dataframe thead th {\n",
       "        text-align: right;\n",
       "    }\n",
       "</style>\n",
       "<table border=\"1\" class=\"dataframe\">\n",
       "  <thead>\n",
       "    <tr style=\"text-align: right;\">\n",
       "      <th></th>\n",
       "      <th>Indicator</th>\n",
       "      <th>Group</th>\n",
       "      <th>State</th>\n",
       "      <th>Subgroup</th>\n",
       "      <th>Week</th>\n",
       "      <th>Week Label</th>\n",
       "      <th>Value</th>\n",
       "      <th>Low CI</th>\n",
       "      <th>High CI</th>\n",
       "      <th>Confidence Interval</th>\n",
       "      <th>Quartile range</th>\n",
       "    </tr>\n",
       "  </thead>\n",
       "  <tbody>\n",
       "    <tr>\n",
       "      <th>80</th>\n",
       "      <td>Symptoms of Anxiety Disorder</td>\n",
       "      <td>By Race/Hispanic ethnicity</td>\n",
       "      <td>United States</td>\n",
       "      <td>Hispanic or Latino</td>\n",
       "      <td>1</td>\n",
       "      <td>Apr 23 - May 5</td>\n",
       "      <td>36.3</td>\n",
       "      <td>33.4</td>\n",
       "      <td>39.2</td>\n",
       "      <td>33.4 - 39.2</td>\n",
       "      <td>NaN</td>\n",
       "    </tr>\n",
       "    <tr>\n",
       "      <th>81</th>\n",
       "      <td>Symptoms of Anxiety Disorder</td>\n",
       "      <td>By Race/Hispanic ethnicity</td>\n",
       "      <td>United States</td>\n",
       "      <td>Non-Hispanic white, single race</td>\n",
       "      <td>1</td>\n",
       "      <td>Apr 23 - May 5</td>\n",
       "      <td>29.0</td>\n",
       "      <td>28.2</td>\n",
       "      <td>29.9</td>\n",
       "      <td>28.2 - 29.9</td>\n",
       "      <td>NaN</td>\n",
       "    </tr>\n",
       "    <tr>\n",
       "      <th>82</th>\n",
       "      <td>Symptoms of Anxiety Disorder</td>\n",
       "      <td>By Race/Hispanic ethnicity</td>\n",
       "      <td>United States</td>\n",
       "      <td>Non-Hispanic black, single race</td>\n",
       "      <td>1</td>\n",
       "      <td>Apr 23 - May 5</td>\n",
       "      <td>32.8</td>\n",
       "      <td>30.3</td>\n",
       "      <td>35.5</td>\n",
       "      <td>30.3 - 35.5</td>\n",
       "      <td>NaN</td>\n",
       "    </tr>\n",
       "    <tr>\n",
       "      <th>83</th>\n",
       "      <td>Symptoms of Anxiety Disorder</td>\n",
       "      <td>By Race/Hispanic ethnicity</td>\n",
       "      <td>United States</td>\n",
       "      <td>Non-Hispanic Asian, single race</td>\n",
       "      <td>1</td>\n",
       "      <td>Apr 23 - May 5</td>\n",
       "      <td>26.3</td>\n",
       "      <td>23.6</td>\n",
       "      <td>29.1</td>\n",
       "      <td>23.6 - 29.1</td>\n",
       "      <td>NaN</td>\n",
       "    </tr>\n",
       "    <tr>\n",
       "      <th>84</th>\n",
       "      <td>Symptoms of Anxiety Disorder</td>\n",
       "      <td>By Race/Hispanic ethnicity</td>\n",
       "      <td>United States</td>\n",
       "      <td>Non-Hispanic, other races and multiple races</td>\n",
       "      <td>1</td>\n",
       "      <td>Apr 23 - May 5</td>\n",
       "      <td>38.2</td>\n",
       "      <td>34.3</td>\n",
       "      <td>42.3</td>\n",
       "      <td>34.3 - 42.3</td>\n",
       "      <td>NaN</td>\n",
       "    </tr>\n",
       "  </tbody>\n",
       "</table>\n",
       "</div>"
      ],
      "text/plain": [
       "                       Indicator                       Group          State  \\\n",
       "80  Symptoms of Anxiety Disorder  By Race/Hispanic ethnicity  United States   \n",
       "81  Symptoms of Anxiety Disorder  By Race/Hispanic ethnicity  United States   \n",
       "82  Symptoms of Anxiety Disorder  By Race/Hispanic ethnicity  United States   \n",
       "83  Symptoms of Anxiety Disorder  By Race/Hispanic ethnicity  United States   \n",
       "84  Symptoms of Anxiety Disorder  By Race/Hispanic ethnicity  United States   \n",
       "\n",
       "                                        Subgroup  Week      Week Label  Value  \\\n",
       "80                            Hispanic or Latino     1  Apr 23 - May 5   36.3   \n",
       "81               Non-Hispanic white, single race     1  Apr 23 - May 5   29.0   \n",
       "82               Non-Hispanic black, single race     1  Apr 23 - May 5   32.8   \n",
       "83               Non-Hispanic Asian, single race     1  Apr 23 - May 5   26.3   \n",
       "84  Non-Hispanic, other races and multiple races     1  Apr 23 - May 5   38.2   \n",
       "\n",
       "    Low CI  High CI Confidence Interval Quartile range  \n",
       "80    33.4     39.2         33.4 - 39.2            NaN  \n",
       "81    28.2     29.9         28.2 - 29.9            NaN  \n",
       "82    30.3     35.5         30.3 - 35.5            NaN  \n",
       "83    23.6     29.1         23.6 - 29.1            NaN  \n",
       "84    34.3     42.3         34.3 - 42.3            NaN  "
      ]
     },
     "execution_count": 4,
     "metadata": {},
     "output_type": "execute_result"
    }
   ],
   "source": [
    "mask = anx_df[\"Group\"] == \"By Race/Hispanic ethnicity\"\n",
    "anx_race_df = anx_df[mask]\n",
    "\n",
    "anx_race_df.head()"
   ]
  },
  {
   "cell_type": "markdown",
   "id": "096ae20e",
   "metadata": {},
   "source": [
    "**Race Grouping for Anxiety**"
   ]
  },
  {
   "cell_type": "code",
   "execution_count": 5,
   "id": "e5a815a4",
   "metadata": {},
   "outputs": [
    {
     "data": {
      "text/html": [
       "<div>\n",
       "<style scoped>\n",
       "    .dataframe tbody tr th:only-of-type {\n",
       "        vertical-align: middle;\n",
       "    }\n",
       "\n",
       "    .dataframe tbody tr th {\n",
       "        vertical-align: top;\n",
       "    }\n",
       "\n",
       "    .dataframe thead tr th {\n",
       "        text-align: left;\n",
       "    }\n",
       "\n",
       "    .dataframe thead tr:last-of-type th {\n",
       "        text-align: right;\n",
       "    }\n",
       "</style>\n",
       "<table border=\"1\" class=\"dataframe\">\n",
       "  <thead>\n",
       "    <tr>\n",
       "      <th></th>\n",
       "      <th colspan=\"8\" halign=\"left\">Value</th>\n",
       "    </tr>\n",
       "    <tr>\n",
       "      <th></th>\n",
       "      <th>count</th>\n",
       "      <th>mean</th>\n",
       "      <th>std</th>\n",
       "      <th>min</th>\n",
       "      <th>25%</th>\n",
       "      <th>50%</th>\n",
       "      <th>75%</th>\n",
       "      <th>max</th>\n",
       "    </tr>\n",
       "    <tr>\n",
       "      <th>Subgroup</th>\n",
       "      <th></th>\n",
       "      <th></th>\n",
       "      <th></th>\n",
       "      <th></th>\n",
       "      <th></th>\n",
       "      <th></th>\n",
       "      <th></th>\n",
       "      <th></th>\n",
       "    </tr>\n",
       "  </thead>\n",
       "  <tbody>\n",
       "    <tr>\n",
       "      <th>Hispanic or Latino</th>\n",
       "      <td>7.0</td>\n",
       "      <td>34.585714</td>\n",
       "      <td>1.680703</td>\n",
       "      <td>32.1</td>\n",
       "      <td>33.60</td>\n",
       "      <td>34.0</td>\n",
       "      <td>36.25</td>\n",
       "      <td>36.3</td>\n",
       "    </tr>\n",
       "    <tr>\n",
       "      <th>Non-Hispanic Asian, single race</th>\n",
       "      <td>7.0</td>\n",
       "      <td>25.457143</td>\n",
       "      <td>2.050900</td>\n",
       "      <td>22.2</td>\n",
       "      <td>24.50</td>\n",
       "      <td>26.0</td>\n",
       "      <td>26.30</td>\n",
       "      <td>28.4</td>\n",
       "    </tr>\n",
       "    <tr>\n",
       "      <th>Non-Hispanic black, single race</th>\n",
       "      <td>7.0</td>\n",
       "      <td>33.271429</td>\n",
       "      <td>1.755671</td>\n",
       "      <td>30.2</td>\n",
       "      <td>32.75</td>\n",
       "      <td>33.0</td>\n",
       "      <td>34.20</td>\n",
       "      <td>35.8</td>\n",
       "    </tr>\n",
       "    <tr>\n",
       "      <th>Non-Hispanic white, single race</th>\n",
       "      <td>7.0</td>\n",
       "      <td>28.557143</td>\n",
       "      <td>1.428119</td>\n",
       "      <td>26.3</td>\n",
       "      <td>27.70</td>\n",
       "      <td>29.0</td>\n",
       "      <td>29.30</td>\n",
       "      <td>30.6</td>\n",
       "    </tr>\n",
       "    <tr>\n",
       "      <th>Non-Hispanic, other races and multiple races</th>\n",
       "      <td>7.0</td>\n",
       "      <td>38.514286</td>\n",
       "      <td>3.952395</td>\n",
       "      <td>31.3</td>\n",
       "      <td>37.90</td>\n",
       "      <td>38.6</td>\n",
       "      <td>39.65</td>\n",
       "      <td>44.6</td>\n",
       "    </tr>\n",
       "  </tbody>\n",
       "</table>\n",
       "</div>"
      ],
      "text/plain": [
       "                                             Value                             \\\n",
       "                                             count       mean       std   min   \n",
       "Subgroup                                                                        \n",
       "Hispanic or Latino                             7.0  34.585714  1.680703  32.1   \n",
       "Non-Hispanic Asian, single race                7.0  25.457143  2.050900  22.2   \n",
       "Non-Hispanic black, single race                7.0  33.271429  1.755671  30.2   \n",
       "Non-Hispanic white, single race                7.0  28.557143  1.428119  26.3   \n",
       "Non-Hispanic, other races and multiple races   7.0  38.514286  3.952395  31.3   \n",
       "\n",
       "                                                                        \n",
       "                                                25%   50%    75%   max  \n",
       "Subgroup                                                                \n",
       "Hispanic or Latino                            33.60  34.0  36.25  36.3  \n",
       "Non-Hispanic Asian, single race               24.50  26.0  26.30  28.4  \n",
       "Non-Hispanic black, single race               32.75  33.0  34.20  35.8  \n",
       "Non-Hispanic white, single race               27.70  29.0  29.30  30.6  \n",
       "Non-Hispanic, other races and multiple races  37.90  38.6  39.65  44.6  "
      ]
     },
     "execution_count": 5,
     "metadata": {},
     "output_type": "execute_result"
    }
   ],
   "source": [
    "races = anx_race_df.groupby(\"Subgroup\")[[\"Value\"]].describe()\n",
    "races"
   ]
  },
  {
   "cell_type": "code",
   "execution_count": 6,
   "id": "99220e6b",
   "metadata": {},
   "outputs": [],
   "source": [
    "# separate into different races\n",
    "h_mask = anx_race_df[\"Subgroup\"] == \"Hispanic or Latino\"\n",
    "h_race = anx_race_df[h_mask]\n",
    "\n",
    "a_mask = anx_race_df[\"Subgroup\"] == \"Non-Hispanic Asian, single race\"\n",
    "a_race = anx_race_df[a_mask]\n",
    "\n",
    "b_mask = anx_race_df[\"Subgroup\"] == \"Non-Hispanic black, single race\"\n",
    "b_race = anx_race_df[b_mask]\n",
    "\n",
    "w_mask = anx_race_df[\"Subgroup\"] == \"Non-Hispanic white, single race\"\n",
    "w_race = anx_race_df[w_mask]\n",
    "\n",
    "o_mask = anx_race_df[\"Subgroup\"] == \"Non-Hispanic, other races and multiple races\"\n",
    "o_race = anx_race_df[o_mask]"
   ]
  },
  {
   "cell_type": "code",
   "execution_count": 7,
   "id": "9ac3f9bf",
   "metadata": {},
   "outputs": [],
   "source": [
    "# extract values\n",
    "h = h_race[[\"Value\"]]\n",
    "a = a_race[[\"Value\"]]\n",
    "b = b_race[[\"Value\"]]\n",
    "w = w_race[[\"Value\"]]\n",
    "o = o_race[[\"Value\"]]"
   ]
  },
  {
   "cell_type": "markdown",
   "id": "c57e5a36",
   "metadata": {},
   "source": [
    "**T-test (2-sided alternative)**\n",
    "\n",
    "**Hispanic or Latino vs Asian**"
   ]
  },
  {
   "cell_type": "code",
   "execution_count": 8,
   "id": "cd1524dc",
   "metadata": {},
   "outputs": [
    {
     "data": {
      "text/plain": [
       "1.2941885190937998e-06"
      ]
     },
     "execution_count": 8,
     "metadata": {},
     "output_type": "execute_result"
    }
   ],
   "source": [
    "stats.ttest_ind(h, a, \n",
    "                equal_var = False).pvalue[0]"
   ]
  },
  {
   "cell_type": "markdown",
   "id": "c8e4dd1b",
   "metadata": {},
   "source": [
    "**Hispanic or Latino vs Black**"
   ]
  },
  {
   "cell_type": "code",
   "execution_count": 9,
   "id": "d5cfef93",
   "metadata": {},
   "outputs": [
    {
     "data": {
      "text/plain": [
       "0.17808372613464812"
      ]
     },
     "execution_count": 9,
     "metadata": {},
     "output_type": "execute_result"
    }
   ],
   "source": [
    "stats.ttest_ind(h, b, \n",
    "                equal_var = False).pvalue[0]"
   ]
  },
  {
   "cell_type": "markdown",
   "id": "3e11c38d",
   "metadata": {},
   "source": [
    "**Hispanic or Latino vs White**"
   ]
  },
  {
   "cell_type": "code",
   "execution_count": 10,
   "id": "dba25794",
   "metadata": {},
   "outputs": [
    {
     "data": {
      "text/plain": [
       "1.2001770041696471e-05"
      ]
     },
     "execution_count": 10,
     "metadata": {},
     "output_type": "execute_result"
    }
   ],
   "source": [
    "stats.ttest_ind(h, w, \n",
    "                equal_var = False).pvalue[0]"
   ]
  },
  {
   "cell_type": "markdown",
   "id": "28537991",
   "metadata": {},
   "source": [
    "**Hispanic or Latino vs Other/Multiple Races**"
   ]
  },
  {
   "cell_type": "code",
   "execution_count": 11,
   "id": "dd36f373",
   "metadata": {},
   "outputs": [
    {
     "data": {
      "text/plain": [
       "0.04147766952158347"
      ]
     },
     "execution_count": 11,
     "metadata": {},
     "output_type": "execute_result"
    }
   ],
   "source": [
    "stats.ttest_ind(h, o, \n",
    "                equal_var = False).pvalue[0]"
   ]
  },
  {
   "cell_type": "markdown",
   "id": "1f41951d",
   "metadata": {},
   "source": [
    "**Visualization of Race Difference**"
   ]
  },
  {
   "cell_type": "code",
   "execution_count": 12,
   "id": "7d906f17",
   "metadata": {},
   "outputs": [
    {
     "data": {
      "text/plain": [
       "Text(0.5, 1.0, 'Mean Value by Race')"
      ]
     },
     "execution_count": 12,
     "metadata": {},
     "output_type": "execute_result"
    },
    {
     "data": {
      "image/png": "[encoded data removed]",
      "text/plain": [
       "<Figure size 360x360 with 1 Axes>"
      ]
     },
     "metadata": {
      "needs_background": "light"
     },
     "output_type": "display_data"
    }
   ],
   "source": [
    "fig = plt.figure(figsize = (5, 5))\n",
    "\n",
    "plt.bar(anx_race_df[\"Subgroup\"], \n",
    "        anx_race_df[\"Value\"], \n",
    "       width = 0.4)\n",
    "\n",
    "plt.xlabel(\"Races\")\n",
    "\n",
    "plt.xticks(rotation=45)\n",
    "\n",
    "plt.ylabel(\"Mean Value\")\n",
    "\n",
    "plt.title(\"Mean Value by Race\")"
   ]
  },
  {
   "cell_type": "markdown",
   "id": "14d3e851",
   "metadata": {},
   "source": [
    "**Simple Linear Regression + ANOVA TEST**"
   ]
  },
  {
   "cell_type": "markdown",
   "id": "f86fece8",
   "metadata": {},
   "source": [
    "$$y = \\beta_0 + \\beta_1x_1$$"
   ]
  },
  {
   "cell_type": "code",
   "execution_count": 13,
   "id": "f51fc5a2",
   "metadata": {},
   "outputs": [
    {
     "data": {
      "text/html": [
       "<div>\n",
       "<style scoped>\n",
       "    .dataframe tbody tr th:only-of-type {\n",
       "        vertical-align: middle;\n",
       "    }\n",
       "\n",
       "    .dataframe tbody tr th {\n",
       "        vertical-align: top;\n",
       "    }\n",
       "\n",
       "    .dataframe thead th {\n",
       "        text-align: right;\n",
       "    }\n",
       "</style>\n",
       "<table border=\"1\" class=\"dataframe\">\n",
       "  <thead>\n",
       "    <tr style=\"text-align: right;\">\n",
       "      <th></th>\n",
       "      <th>df</th>\n",
       "      <th>sum_sq</th>\n",
       "      <th>mean_sq</th>\n",
       "      <th>F</th>\n",
       "      <th>PR(&gt;F)</th>\n",
       "    </tr>\n",
       "  </thead>\n",
       "  <tbody>\n",
       "    <tr>\n",
       "      <th>C(Subgroup)</th>\n",
       "      <td>4.0</td>\n",
       "      <td>737.596000</td>\n",
       "      <td>184.399000</td>\n",
       "      <td>33.195993</td>\n",
       "      <td>1.271709e-10</td>\n",
       "    </tr>\n",
       "    <tr>\n",
       "      <th>Residual</th>\n",
       "      <td>30.0</td>\n",
       "      <td>166.645714</td>\n",
       "      <td>5.554857</td>\n",
       "      <td>NaN</td>\n",
       "      <td>NaN</td>\n",
       "    </tr>\n",
       "  </tbody>\n",
       "</table>\n",
       "</div>"
      ],
      "text/plain": [
       "               df      sum_sq     mean_sq          F        PR(>F)\n",
       "C(Subgroup)   4.0  737.596000  184.399000  33.195993  1.271709e-10\n",
       "Residual     30.0  166.645714    5.554857        NaN           NaN"
      ]
     },
     "execution_count": 13,
     "metadata": {},
     "output_type": "execute_result"
    }
   ],
   "source": [
    "model = ols('Value ~ C(Subgroup)', \n",
    "            data = anx_race_df).fit()\n",
    "\n",
    "sm.stats.anova_lm(model, type = 2)"
   ]
  },
  {
   "cell_type": "code",
   "execution_count": 14,
   "id": "3e6d4b83",
   "metadata": {},
   "outputs": [
    {
     "data": {
      "text/html": [
       "<table class=\"simpletable\">\n",
       "<caption>OLS Regression Results</caption>\n",
       "<tr>\n",
       "  <th>Dep. Variable:</th>          <td>Value</td>      <th>  R-squared:         </th> <td>   0.816</td>\n",
       "</tr>\n",
       "<tr>\n",
       "  <th>Model:</th>                   <td>OLS</td>       <th>  Adj. R-squared:    </th> <td>   0.791</td>\n",
       "</tr>\n",
       "<tr>\n",
       "  <th>Method:</th>             <td>Least Squares</td>  <th>  F-statistic:       </th> <td>   33.20</td>\n",
       "</tr>\n",
       "<tr>\n",
       "  <th>Date:</th>             <td>Thu, 03 Aug 2023</td> <th>  Prob (F-statistic):</th> <td>1.27e-10</td>\n",
       "</tr>\n",
       "<tr>\n",
       "  <th>Time:</th>                 <td>22:11:27</td>     <th>  Log-Likelihood:    </th> <td> -76.972</td>\n",
       "</tr>\n",
       "<tr>\n",
       "  <th>No. Observations:</th>      <td>    35</td>      <th>  AIC:               </th> <td>   163.9</td>\n",
       "</tr>\n",
       "<tr>\n",
       "  <th>Df Residuals:</th>          <td>    30</td>      <th>  BIC:               </th> <td>   171.7</td>\n",
       "</tr>\n",
       "<tr>\n",
       "  <th>Df Model:</th>              <td>     4</td>      <th>                     </th>     <td> </td>   \n",
       "</tr>\n",
       "<tr>\n",
       "  <th>Covariance Type:</th>      <td>nonrobust</td>    <th>                     </th>     <td> </td>   \n",
       "</tr>\n",
       "</table>\n",
       "<table class=\"simpletable\">\n",
       "<tr>\n",
       "                               <td></td>                                  <th>coef</th>     <th>std err</th>      <th>t</th>      <th>P>|t|</th>  <th>[0.025</th>    <th>0.975]</th>  \n",
       "</tr>\n",
       "<tr>\n",
       "  <th>Intercept</th>                                                   <td>   34.5857</td> <td>    0.891</td> <td>   38.825</td> <td> 0.000</td> <td>   32.766</td> <td>   36.405</td>\n",
       "</tr>\n",
       "<tr>\n",
       "  <th>C(Subgroup)[T.Non-Hispanic Asian, single race]</th>              <td>   -9.1286</td> <td>    1.260</td> <td>   -7.246</td> <td> 0.000</td> <td>  -11.701</td> <td>   -6.556</td>\n",
       "</tr>\n",
       "<tr>\n",
       "  <th>C(Subgroup)[T.Non-Hispanic black, single race]</th>              <td>   -1.3143</td> <td>    1.260</td> <td>   -1.043</td> <td> 0.305</td> <td>   -3.887</td> <td>    1.259</td>\n",
       "</tr>\n",
       "<tr>\n",
       "  <th>C(Subgroup)[T.Non-Hispanic white, single race]</th>              <td>   -6.0286</td> <td>    1.260</td> <td>   -4.785</td> <td> 0.000</td> <td>   -8.601</td> <td>   -3.456</td>\n",
       "</tr>\n",
       "<tr>\n",
       "  <th>C(Subgroup)[T.Non-Hispanic, other races and multiple races]</th> <td>    3.9286</td> <td>    1.260</td> <td>    3.118</td> <td> 0.004</td> <td>    1.356</td> <td>    6.501</td>\n",
       "</tr>\n",
       "</table>\n",
       "<table class=\"simpletable\">\n",
       "<tr>\n",
       "  <th>Omnibus:</th>       <td> 8.668</td> <th>  Durbin-Watson:     </th> <td>   1.563</td>\n",
       "</tr>\n",
       "<tr>\n",
       "  <th>Prob(Omnibus):</th> <td> 0.013</td> <th>  Jarque-Bera (JB):  </th> <td>  12.228</td>\n",
       "</tr>\n",
       "<tr>\n",
       "  <th>Skew:</th>          <td>-0.488</td> <th>  Prob(JB):          </th> <td> 0.00221</td>\n",
       "</tr>\n",
       "<tr>\n",
       "  <th>Kurtosis:</th>      <td> 5.726</td> <th>  Cond. No.          </th> <td>    5.83</td>\n",
       "</tr>\n",
       "</table><br/><br/>Notes:<br/>[1] Standard Errors assume that the covariance matrix of the errors is correctly specified."
      ],
      "text/plain": [
       "<class 'statsmodels.iolib.summary.Summary'>\n",
       "\"\"\"\n",
       "                            OLS Regression Results                            \n",
       "==============================================================================\n",
       "Dep. Variable:                  Value   R-squared:                       0.816\n",
       "Model:                            OLS   Adj. R-squared:                  0.791\n",
       "Method:                 Least Squares   F-statistic:                     33.20\n",
       "Date:                Thu, 03 Aug 2023   Prob (F-statistic):           1.27e-10\n",
       "Time:                        22:11:27   Log-Likelihood:                -76.972\n",
       "No. Observations:                  35   AIC:                             163.9\n",
       "Df Residuals:                      30   BIC:                             171.7\n",
       "Df Model:                           4                                         \n",
       "Covariance Type:            nonrobust                                         \n",
       "===============================================================================================================================\n",
       "                                                                  coef    std err          t      P>|t|      [0.025      0.975]\n",
       "-------------------------------------------------------------------------------------------------------------------------------\n",
       "Intercept                                                      34.5857      0.891     38.825      0.000      32.766      36.405\n",
       "C(Subgroup)[T.Non-Hispanic Asian, single race]                 -9.1286      1.260     -7.246      0.000     -11.701      -6.556\n",
       "C(Subgroup)[T.Non-Hispanic black, single race]                 -1.3143      1.260     -1.043      0.305      -3.887       1.259\n",
       "C(Subgroup)[T.Non-Hispanic white, single race]                 -6.0286      1.260     -4.785      0.000      -8.601      -3.456\n",
       "C(Subgroup)[T.Non-Hispanic, other races and multiple races]     3.9286      1.260      3.118      0.004       1.356       6.501\n",
       "==============================================================================\n",
       "Omnibus:                        8.668   Durbin-Watson:                   1.563\n",
       "Prob(Omnibus):                  0.013   Jarque-Bera (JB):               12.228\n",
       "Skew:                          -0.488   Prob(JB):                      0.00221\n",
       "Kurtosis:                       5.726   Cond. No.                         5.83\n",
       "==============================================================================\n",
       "\n",
       "Notes:\n",
       "[1] Standard Errors assume that the covariance matrix of the errors is correctly specified.\n",
       "\"\"\""
      ]
     },
     "execution_count": 14,
     "metadata": {},
     "output_type": "execute_result"
    }
   ],
   "source": [
    "model.summary()"
   ]
  },
  {
   "cell_type": "code",
   "execution_count": 15,
   "id": "db837cb8",
   "metadata": {},
   "outputs": [
    {
     "data": {
      "text/plain": [
       "Intercept                                                      3.303173e-27\n",
       "C(Subgroup)[T.Non-Hispanic Asian, single race]                 4.571503e-08\n",
       "C(Subgroup)[T.Non-Hispanic black, single race]                 3.051680e-01\n",
       "C(Subgroup)[T.Non-Hispanic white, single race]                 4.268754e-05\n",
       "C(Subgroup)[T.Non-Hispanic, other races and multiple races]    3.992643e-03\n",
       "dtype: float64"
      ]
     },
     "execution_count": 15,
     "metadata": {},
     "output_type": "execute_result"
    }
   ],
   "source": [
    "model.pvalues"
   ]
  },
  {
   "cell_type": "code",
   "execution_count": 16,
   "id": "598e7ee5",
   "metadata": {},
   "outputs": [
    {
     "data": {
      "text/plain": [
       "Text(0.5, 0, 'Race')"
      ]
     },
     "execution_count": 16,
     "metadata": {},
     "output_type": "execute_result"
    },
    {
     "data": {
      "image/png": "[encoded data removed]",
      "text/plain": [
       "<Figure size 432x288 with 1 Axes>"
      ]
     },
     "metadata": {
      "needs_background": "light"
     },
     "output_type": "display_data"
    }
   ],
   "source": [
    "ax = anx_race_df.plot(x = 'Subgroup',\n",
    "                      y='Value', \n",
    "                      kind='scatter')\n",
    "\n",
    "plt.xticks(rotation = 90)\n",
    "\n",
    "plt.xlabel(\"Race\")"
   ]
  },
  {
   "cell_type": "code",
   "execution_count": 18,
   "id": "0da4e70e",
   "metadata": {},
   "outputs": [
    {
     "data": {
      "text/plain": [
       "Text(0, 0.5, 'Race')"
      ]
     },
     "execution_count": 18,
     "metadata": {},
     "output_type": "execute_result"
    },
    {
     "data": {
      "image/png": "[encoded data removed]",
      "text/plain": [
       "<Figure size 432x288 with 1 Axes>"
      ]
     },
     "metadata": {
      "needs_background": "light"
     },
     "output_type": "display_data"
    }
   ],
   "source": [
    "anx_race_df.boxplot(column = \"Value\",\n",
    "                    by = \"Subgroup\",\n",
    "                   vert = False)\n",
    "\n",
    "plt.yticks(rotation = 45)\n",
    "\n",
    "plt.suptitle('Score Value grouped by Race', fontsize=14, fontweight='bold')\n",
    "plt.title(\"\")\n",
    "plt.xlabel(\"Value\")\n",
    "plt.ylabel(\"Race\")"
   ]
  },
  {
   "cell_type": "markdown",
   "id": "49af8862",
   "metadata": {},
   "source": [
    "**Conclusion**\n",
    "\n",
    "With respect for Hispanic or Latino (and assuming they are significantly anxious), Asians, Whites, and other races have significantly different scores from that of Hispanic or Latino. No comment can be made about Blacks however."
   ]
  }
 ],
 "metadata": {
  "kernelspec": {
   "display_name": "Python 3 (ipykernel)",
   "language": "python",
   "name": "python3"
  },
  "language_info": {
   "codemirror_mode": {
    "name": "ipython",
    "version": 3
   },
   "file_extension": ".py",
   "mimetype": "text/x-python",
   "name": "python",
   "nbconvert_exporter": "python",
   "pygments_lexer": "ipython3",
   "version": "3.9.7"
  }
 },
 "nbformat": 4,
 "nbformat_minor": 5
}
